{
 "cells": [
  {
   "cell_type": "markdown",
   "metadata": {},
   "source": [
    "# Self-Driving Car Engineer Nanodegree\n",
    "\n",
    "\n",
    "## Project: **Finding Lane Lines on the Road** \n",
    "***\n",
    "In this project, you will use the tools you learned about in the lesson to identify lane lines on the road.  You can develop your pipeline on a series of individual images, and later apply the result to a video stream (really just a series of images). Check out the video clip \"raw-lines-example.mp4\" (also contained in this repository) to see what the output should look like after using the helper functions below. \n",
    "\n",
    "Once you have a result that looks roughly like \"raw-lines-example.mp4\", you'll need to get creative and try to average and/or extrapolate the line segments you've detected to map out the full extent of the lane lines.  You can see an example of the result you're going for in the video \"P1_example.mp4\".  Ultimately, you would like to draw just one line for the left side of the lane, and one for the right.\n",
    "\n",
    "In addition to implementing code, there is a brief writeup to complete. The writeup should be completed in a separate file, which can be either a markdown file or a pdf document. There is a [write up template](https://github.com/udacity/CarND-LaneLines-P1/blob/master/writeup_template.md) that can be used to guide the writing process. Completing both the code in the Ipython notebook and the writeup template will cover all of the [rubric points](https://review.udacity.com/#!/rubrics/322/view) for this project.\n",
    "\n",
    "---\n",
    "Let's have a look at our first image called 'test_images/solidWhiteRight.jpg'.  Run the 2 cells below (hit Shift-Enter or the \"play\" button above) to display the image.\n",
    "\n",
    "**Note: If, at any point, you encounter frozen display windows or other confounding issues, you can always start again with a clean slate by going to the \"Kernel\" menu above and selecting \"Restart & Clear Output\".**\n",
    "\n",
    "---"
   ]
  },
  {
   "cell_type": "markdown",
   "metadata": {},
   "source": [
    "**The tools you have are color selection, region of interest selection, grayscaling, Gaussian smoothing, Canny Edge Detection and Hough Tranform line detection.  You  are also free to explore and try other techniques that were not presented in the lesson.  Your goal is piece together a pipeline to detect the line segments in the image, then average/extrapolate them and draw them onto the image for display (as below).  Once you have a working pipeline, try it out on the video stream below.**\n",
    "\n",
    "---\n",
    "\n",
    "<figure>\n",
    " <img src=\"examples/line-segments-example.jpg\" width=\"380\" alt=\"Combined Image\" />\n",
    " <figcaption>\n",
    " <p></p> \n",
    " <p style=\"text-align: center;\"> Your output should look something like this (above) after detecting line segments using the helper functions below </p> \n",
    " </figcaption>\n",
    "</figure>\n",
    " <p></p> \n",
    "<figure>\n",
    " <img src=\"examples/laneLines_thirdPass.jpg\" width=\"380\" alt=\"Combined Image\" />\n",
    " <figcaption>\n",
    " <p></p> \n",
    " <p style=\"text-align: center;\"> Your goal is to connect/average/extrapolate line segments to get output like this</p> \n",
    " </figcaption>\n",
    "</figure>"
   ]
  },
  {
   "cell_type": "markdown",
   "metadata": {},
   "source": [
    "**Run the cell below to import some packages.  If you get an `import error` for a package you've already installed, try changing your kernel (select the Kernel menu above --> Change Kernel).  Still have problems?  Try relaunching Jupyter Notebook from the terminal prompt.  Also, consult the forums for more troubleshooting tips.**  "
   ]
  },
  {
   "cell_type": "markdown",
   "metadata": {},
   "source": [
    "## Import Packages"
   ]
  },
  {
   "cell_type": "code",
   "execution_count": 33,
   "metadata": {},
   "outputs": [
    {
     "data": {
      "image/png": "[encoded data removed]",
      "text/plain": [
       "<matplotlib.figure.Figure at 0x7f87544bf470>"
      ]
     },
     "metadata": {
      "needs_background": "light"
     },
     "output_type": "display_data"
    }
   ],
   "source": [
    "#importing some useful packages\n",
    "import matplotlib.pyplot as plt\n",
    "import matplotlib.image as mpimg\n",
    "import numpy as np\n",
    "import cv2\n",
    "%matplotlib inline\n",
    "\n",
    "plt.plot([1, 3, 4], [2, 4, 5], \"ro\")\n",
    "plt.xticks(range(10))\n",
    "plt.yticks(range(10))\n",
    "\n",
    "x_values = np.arange(0,10,1)\n",
    "y_values = 1 * x_values + 1\n",
    "plt.plot(x_values, y_values)\n",
    "\n",
    "plt.grid(True)\n",
    "plt.ylabel('y-axis')\n",
    "plt.xlabel('x-axis')\n",
    "plt.show()"
   ]
  },
  {
   "cell_type": "markdown",
   "metadata": {},
   "source": [
    "## Read in an Image"
   ]
  },
  {
   "cell_type": "code",
   "execution_count": 2,
   "metadata": {},
   "outputs": [
    {
     "name": "stdout",
     "output_type": "stream",
     "text": [
      "This image is: <class 'numpy.ndarray'> with dimensions: (540, 960, 3)\n"
     ]
    }
   ],
   "source": [
    "#reading in an image\n",
    "image = mpimg.imread('test_images/solidWhiteRight.jpg')\n",
    "\n",
    "#printing out some stats and plotting\n",
    "print('This image is:', type(image), 'with dimensions:', image.shape)\n",
    "#plt.imshow(image)  # if you wanted to show a single color channel image called 'gray', for example, call as plt.imshow(gray, cmap='gray')"
   ]
  },
  {
   "cell_type": "markdown",
   "metadata": {},
   "source": [
    "## Ideas for Lane Detection Pipeline"
   ]
  },
  {
   "cell_type": "markdown",
   "metadata": {},
   "source": [
    "**Some OpenCV functions (beyond those introduced in the lesson) that might be useful for this project are:**\n",
    "\n",
    "`cv2.inRange()` for color selection  \n",
    "`cv2.fillPoly()` for regions selection  \n",
    "`cv2.line()` to draw lines on an image given endpoints  \n",
    "`cv2.addWeighted()` to coadd / overlay two images  \n",
    "`cv2.cvtColor()` to grayscale or change color  \n",
    "`cv2.imwrite()` to output images to file  \n",
    "`cv2.bitwise_and()` to apply a mask to an image\n",
    "\n",
    "**Check out the OpenCV documentation to learn about these and discover even more awesome functionality!**"
   ]
  },
  {
   "cell_type": "markdown",
   "metadata": {},
   "source": [
    "## Helper Functions"
   ]
  },
  {
   "cell_type": "markdown",
   "metadata": {},
   "source": [
    "Below are some helper functions to help get you started. They should look familiar from the lesson!"
   ]
  },
  {
   "cell_type": "code",
   "execution_count": 3,
   "metadata": {},
   "outputs": [],
   "source": [
    "import math\n",
    "\n",
    "def grayscale(img):\n",
    "    \"\"\"Applies the Grayscale transform\n",
    "    This will return an image with only one color channel\n",
    "    but NOTE: to see the returned image as grayscale\n",
    "    (assuming your grayscaled image is called 'gray')\n",
    "    you should call plt.imshow(gray, cmap='gray')\"\"\"\n",
    "    return cv2.cvtColor(img, cv2.COLOR_RGB2GRAY)\n",
    "    # Or use BGR2GRAY if you read an image with cv2.imread()\n",
    "    # return cv2.cvtColor(img, cv2.COLOR_BGR2GRAY)\n",
    "    \n",
    "def canny(img, low_threshold, high_threshold):\n",
    "    \"\"\"Applies the Canny transform\"\"\"\n",
    "    return cv2.Canny(img, low_threshold, high_threshold)\n",
    "\n",
    "def gaussian_blur(img, kernel_size):\n",
    "    \"\"\"Applies a Gaussian Noise kernel\"\"\"\n",
    "    return cv2.GaussianBlur(img, (kernel_size, kernel_size), 0)\n",
    "\n",
    "def region_of_interest(img, vertices):\n",
    "    \"\"\"\n",
    "    Applies an image mask.\n",
    "    \n",
    "    Only keeps the region of the image defined by the polygon\n",
    "    formed from `vertices`. The rest of the image is set to black.\n",
    "    `vertices` should be a numpy array of integer points.\n",
    "    \"\"\"\n",
    "    #defining a blank mask to start with\n",
    "    mask = np.zeros_like(img)   \n",
    "    \n",
    "    #defining a 3 channel or 1 channel color to fill the mask with depending on the input image\n",
    "    if len(img.shape) > 2:\n",
    "        channel_count = img.shape[2]  # i.e. 3 or 4 depending on your image\n",
    "        ignore_mask_color = (255,) * channel_count\n",
    "    else:\n",
    "        ignore_mask_color = 255\n",
    "        \n",
    "    #filling pixels inside the polygon defined by \"vertices\" with the fill color    \n",
    "    cv2.fillPoly(mask, vertices, ignore_mask_color)\n",
    "    \n",
    "    #returning the image only where mask pixels are nonzero\n",
    "    masked_image = cv2.bitwise_and(img, mask)\n",
    "    return masked_image\n",
    "\n",
    "def average_lines(lines, m, height):\n",
    "    upper = []\n",
    "    lower = []\n",
    "    for line in lines:\n",
    "        for x1,y1,x2,y2 in line:\n",
    "            b = y1 - m*x1\n",
    "            upper.append((height - b) / m)\n",
    "            lower.append((height/2+50 - b) / m)\n",
    "                 \n",
    "    return [int(sum(upper)/len(upper)), int(sum(lower)/len(lower))]\n",
    "\n",
    "\n",
    "def draw_lines(img, lines, color=[0, 255, 0], thickness=4):\n",
    "    \"\"\"\n",
    "    NOTE: this is the function you might want to use as a starting point once you want to \n",
    "    average/extrapolate the line segments you detect to map out the full\n",
    "    extent of the lane (going from the result shown in raw-lines-example.mp4\n",
    "    to that shown in P1_example.mp4).  \n",
    "    \n",
    "    Think about things like separating line segments by their \n",
    "    slope ((y2-y1)/(x2-x1)) to decide which segments are part of the left\n",
    "    line vs. the right line.  Then, you can average the position of each of \n",
    "    the lines and extrapolate to the top and bottom of the lane.\n",
    "    \n",
    "    This function draws `lines` with `color` and `thickness`.    \n",
    "    Lines are drawn on the image inplace (mutates the image).\n",
    "    If you want to make the lines semi-transparent, think about combining\n",
    "    this function with the weighted_img() function below\n",
    "    \"\"\"\n",
    "    height, width, _ = img.shape\n",
    "    left_lane = []\n",
    "    right_lane = []\n",
    "    left_slopes = []\n",
    "    right_slopes = []\n",
    "    upper_threshold = 0.8\n",
    "    lower_threshold = 0.3\n",
    "    for line in lines:\n",
    "        for x1,y1,x2,y2 in line:\n",
    "            slope = (y2-y1)/(x2-x1)\n",
    "            if slope <  -1 * lower_threshold and slope > -1 * upper_threshold:\n",
    "                left_lane.append(line)\n",
    "                left_slopes.append(slope)\n",
    "            elif slope > lower_threshold and slope < upper_threshold:\n",
    "                right_lane.append(line)\n",
    "                right_slopes.append(slope)\n",
    "    \n",
    "    left_upper_average, left_lower_average = average_lines(left_lane, sum(left_slopes)/len(left_slopes), height)\n",
    "    right_upper_average, right_lower_average = average_lines(right_lane, sum(right_slopes)/len(right_slopes), height)      \n",
    "    cv2.line(img, (left_upper_average, height), (left_lower_average, int(height/2+50)), color, thickness)\n",
    "    cv2.line(img, (right_upper_average, height), (right_lower_average, int(height/2+50)), color, thickness)\n",
    "\n",
    "def hough_lines(img, rho, theta, threshold, min_line_len, max_line_gap):\n",
    "    \"\"\"\n",
    "    `img` should be the output of a Canny transform.\n",
    "        \n",
    "    Returns an image with hough lines drawn.\n",
    "    \"\"\"\n",
    "    lines = cv2.HoughLinesP(img, rho, theta, threshold, np.array([]), minLineLength=min_line_len, maxLineGap=max_line_gap)\n",
    "    line_img = np.zeros((img.shape[0], img.shape[1], 3), dtype=np.uint8)\n",
    "    draw_lines(line_img, lines)\n",
    "    return line_img\n",
    "\n",
    "# Python 3 has support for cool math symbols.\n",
    "\n",
    "def weighted_img(img, initial_img, α=0.8, β=1., γ=0.):\n",
    "    \"\"\"\n",
    "    `img` is the output of the hough_lines(), An image with lines drawn on it.\n",
    "    Should be a blank image (all black) with lines drawn on it.\n",
    "    \n",
    "    `initial_img` should be the image before any processing.\n",
    "    \n",
    "    The result image is computed as follows:\n",
    "    \n",
    "    initial_img * α + img * β + γ\n",
    "    NOTE: initial_img and img must be the same shape!\n",
    "    \"\"\"\n",
    "    return cv2.addWeighted(initial_img, α, img, β, γ)"
   ]
  },
  {
   "cell_type": "markdown",
   "metadata": {},
   "source": [
    "## Test Images\n",
    "\n",
    "Build your pipeline to work on the images in the directory \"test_images\"  \n",
    "**You should make sure your pipeline works well on these images before you try the videos.**"
   ]
  },
  {
   "cell_type": "code",
   "execution_count": 8,
   "metadata": {},
   "outputs": [
    {
     "data": {
      "text/plain": [
       "['whiteCarLaneSwitch.jpg',\n",
       " 'solidYellowLeft.jpg',\n",
       " 'solidWhiteRight.jpg',\n",
       " 'solidWhiteCurve.jpg',\n",
       " 'solidYellowCurve2.jpg',\n",
       " 'solidYellowCurve.jpg']"
      ]
     },
     "execution_count": 8,
     "metadata": {},
     "output_type": "execute_result"
    }
   ],
   "source": [
    "import os\n",
    "os.listdir(\"test_images/\")"
   ]
  },
  {
   "cell_type": "markdown",
   "metadata": {},
   "source": [
    "## Build a Lane Finding Pipeline\n",
    "\n"
   ]
  },
  {
   "cell_type": "markdown",
   "metadata": {},
   "source": [
    "Build the pipeline and run your solution on all test_images. Make copies into the `test_images_output` directory, and you can use the images in your writeup report.\n",
    "\n",
    "Try tuning the various parameters, especially the low and high Canny thresholds as well as the Hough lines parameters."
   ]
  },
  {
   "cell_type": "code",
   "execution_count": 9,
   "metadata": {},
   "outputs": [],
   "source": [
    "def lane_finding_pipeline(image):\n",
    "    height, width, _ = image.shape\n",
    "    grey_image = grayscale(image)\n",
    "\n",
    "    blurred_image = gaussian_blur(grey_image, 5)\n",
    "\n",
    "    canny_image = canny(blurred_image, 50, 150)\n",
    "\n",
    "    bottom_left = (0,height)\n",
    "    upper_left = (width/2, height/2 + 45)\n",
    "    upper_right = (width/2, height/2 + 45)\n",
    "    bottom_right = (width,height)\n",
    "    vertices = np.array([[bottom_left,upper_left, upper_right, bottom_right]], dtype=np.int32)\n",
    "\n",
    "    region_of_interest_image = region_of_interest(canny_image, vertices)\n",
    "\n",
    "    hough_image = hough_lines(region_of_interest_image, 1, np.pi/180, 10, 10, 4)\n",
    "\n",
    "    weighted_image = weighted_img(hough_image, image)\n",
    "    \n",
    "    return weighted_image\n",
    "\n",
    "\n",
    "image_list = os.listdir(\"test_images/\")\n",
    "\n",
    "for i in range(len(image_list)):\n",
    "    image = mpimg.imread(\"test_images/\" + str(image_list[i]))\n",
    "    processed_image = lane_finding_pipeline(image)\n",
    "    mpimg.imsave(\"test_images_output/\" + str(image_list[i]), processed_image)"
   ]
  },
  {
   "cell_type": "markdown",
   "metadata": {},
   "source": [
    "## Test on Videos\n",
    "\n",
    "You know what's cooler than drawing lanes over images? Drawing lanes over video!\n",
    "\n",
    "We can test our solution on two provided videos:\n",
    "\n",
    "`solidWhiteRight.mp4`\n",
    "\n",
    "`solidYellowLeft.mp4`\n",
    "\n",
    "**Note: if you get an import error when you run the next cell, try changing your kernel (select the Kernel menu above --> Change Kernel). Still have problems? Try relaunching Jupyter Notebook from the terminal prompt. Also, consult the forums for more troubleshooting tips.**\n",
    "\n",
    "**If you get an error that looks like this:**\n",
    "```\n",
    "NeedDownloadError: Need ffmpeg exe. \n",
    "You can download it by calling: \n",
    "imageio.plugins.ffmpeg.download()\n",
    "```\n",
    "**Follow the instructions in the error message and check out [this forum post](https://discussions.udacity.com/t/project-error-of-test-on-videos/274082) for more troubleshooting tips across operating systems.**"
   ]
  },
  {
   "cell_type": "code",
   "execution_count": 28,
   "metadata": {},
   "outputs": [],
   "source": [
    "# Import everything needed to edit/save/watch video clips\n",
    "from moviepy.editor import VideoFileClip\n",
    "from IPython.display import HTML"
   ]
  },
  {
   "cell_type": "code",
   "execution_count": 50,
   "metadata": {},
   "outputs": [],
   "source": [
    "def process_image(image):\n",
    "    # NOTE: The output you return should be a color image (3 channel) for processing video below\n",
    "    # TODO: put your pipeline here,\n",
    "    # you should return the final output (image where lines are drawn on lanes)\n",
    "    \n",
    "    return lane_finding_pipeline(image)"
   ]
  },
  {
   "cell_type": "markdown",
   "metadata": {},
   "source": [
    "Let's try the one with the solid white lane on the right first ..."
   ]
  },
  {
   "cell_type": "code",
   "execution_count": 60,
   "metadata": {},
   "outputs": [
    {
     "name": "stderr",
     "output_type": "stream",
     "text": [
      "\n",
      "                                                              \n",
      "t:  84%|████████▍ | 186/221 [1:08:18<00:00, 88.85it/s, now=None]\u001b[A\n",
      "                                                                \n",
      "t:  84%|████████▍ | 186/221 [1:08:18<00:00, 88.85it/s, now=None]\u001b[A\n",
      "\n",
      "t:   0%|          | 0/221 [00:00<?, ?it/s, now=None]\u001b[A\u001b[A\n",
      "\n",
      "t:   6%|▋         | 14/221 [00:00<00:01, 138.42it/s, now=None]\u001b[A\u001b[A"
     ]
    },
    {
     "name": "stdout",
     "output_type": "stream",
     "text": [
      "Moviepy - Building video test_videos_output/solidWhiteRight.mp4.\n",
      "Moviepy - Writing video test_videos_output/solidWhiteRight.mp4\n",
      "\n"
     ]
    },
    {
     "name": "stderr",
     "output_type": "stream",
     "text": [
      "\n",
      "\n",
      "t:  13%|█▎        | 29/221 [00:00<00:01, 141.35it/s, now=None]\u001b[A\u001b[A\n",
      "\n",
      "t:  20%|█▉        | 44/221 [00:00<00:01, 143.77it/s, now=None]\u001b[A\u001b[A\n",
      "\n",
      "t:  24%|██▍       | 54/221 [00:00<00:01, 120.91it/s, now=None]\u001b[A\u001b[A\n",
      "\n",
      "t:  29%|██▉       | 64/221 [00:00<00:01, 104.91it/s, now=None]\u001b[A\u001b[A\n",
      "\n",
      "t:  33%|███▎      | 73/221 [00:00<00:01, 97.78it/s, now=None] \u001b[A\u001b[A\n",
      "\n",
      "t:  38%|███▊      | 84/221 [00:00<00:01, 99.74it/s, now=None]\u001b[A\u001b[A\n",
      "\n",
      "t:  43%|████▎     | 94/221 [00:00<00:01, 97.74it/s, now=None]\u001b[A\u001b[A\n",
      "\n",
      "t:  47%|████▋     | 104/221 [00:00<00:01, 98.23it/s, now=None]\u001b[A\u001b[A\n",
      "\n",
      "t:  52%|█████▏    | 115/221 [00:01<00:01, 98.92it/s, now=None]\u001b[A\u001b[A\n",
      "\n",
      "t:  57%|█████▋    | 125/221 [00:01<00:00, 96.78it/s, now=None]\u001b[A\u001b[A\n",
      "\n",
      "t:  61%|██████    | 135/221 [00:01<00:00, 95.26it/s, now=None]\u001b[A\u001b[A\n",
      "\n",
      "t:  66%|██████▌   | 145/221 [00:01<00:00, 92.40it/s, now=None]\u001b[A\u001b[A\n",
      "\n",
      "t:  70%|███████   | 155/221 [00:01<00:00, 80.78it/s, now=None]\u001b[A\u001b[A\n",
      "\n",
      "t:  74%|███████▍  | 164/221 [00:01<00:00, 81.55it/s, now=None]\u001b[A\u001b[A\n",
      "\n",
      "t:  78%|███████▊  | 173/221 [00:01<00:00, 80.25it/s, now=None]\u001b[A\u001b[A\n",
      "\n",
      "t:  82%|████████▏ | 182/221 [00:01<00:00, 76.28it/s, now=None]\u001b[A\u001b[A\n",
      "\n",
      "t:  87%|████████▋ | 192/221 [00:02<00:00, 80.29it/s, now=None]\u001b[A\u001b[A\n",
      "\n",
      "t:  91%|█████████ | 201/221 [00:02<00:00, 75.86it/s, now=None]\u001b[A\u001b[A\n",
      "\n",
      "t:  95%|█████████▌| 211/221 [00:02<00:00, 80.22it/s, now=None]\u001b[A\u001b[A\n",
      "\n",
      "t: 100%|█████████▉| 220/221 [00:02<00:00, 80.90it/s, now=None]\u001b[A\u001b[A\n",
      "\n",
      "                                                              \u001b[A\u001b[A\n",
      "                                                                \n",
      "t:  84%|████████▍ | 186/221 [1:08:20<00:00, 88.85it/s, now=None]\u001b[A\n",
      "                                                                \n",
      "t:  84%|████████▍ | 186/221 [1:08:20<00:00, 88.85it/s, now=None]\u001b[A"
     ]
    },
    {
     "name": "stdout",
     "output_type": "stream",
     "text": [
      "Moviepy - Done !\n",
      "Moviepy - video ready test_videos_output/solidWhiteRight.mp4\n",
      "CPU times: user 7.18 s, sys: 291 ms, total: 7.47 s\n",
      "Wall time: 2.74 s\n"
     ]
    }
   ],
   "source": [
    "white_output = 'test_videos_output/solidWhiteRight.mp4'\n",
    "## To speed up the testing process you may want to try your pipeline on a shorter subclip of the video\n",
    "## To do so add .subclip(start_second,end_second) to the end of the line below\n",
    "## Where start_second and end_second are integer values representing the start and end of the subclip\n",
    "## You may also uncomment the following line for a subclip of the first 5 seconds\n",
    "##clip1 = VideoFileClip(\"test_videos/solidWhiteRight.mp4\").subclip(0,5)\n",
    "clip1 = VideoFileClip(\"test_videos/solidWhiteRight.mp4\")\n",
    "white_clip = clip1.fl_image(process_image) #NOTE: this function expects color images!!\n",
    "%time white_clip.write_videofile(white_output, audio=False)"
   ]
  },
  {
   "cell_type": "markdown",
   "metadata": {},
   "source": [
    "Play the video inline, or if you prefer find the video in your filesystem (should be in the same directory) and play it in your video player of choice."
   ]
  },
  {
   "cell_type": "code",
   "execution_count": 61,
   "metadata": {
    "scrolled": true
   },
   "outputs": [
    {
     "data": {
      "text/html": [
       "\n",
       "<video width=\"960\" height=\"540\" controls>\n",
       "  <source src=\"test_videos_output/solidWhiteRight.mp4\">\n",
       "</video>\n"
      ],
      "text/plain": [
       "<IPython.core.display.HTML object>"
      ]
     },
     "execution_count": 61,
     "metadata": {},
     "output_type": "execute_result"
    }
   ],
   "source": [
    "HTML(\"\"\"\n",
    "<video width=\"960\" height=\"540\" controls>\n",
    "  <source src=\"{0}\">\n",
    "</video>\n",
    "\"\"\".format(white_output))"
   ]
  },
  {
   "cell_type": "markdown",
   "metadata": {},
   "source": [
    "## Improve the draw_lines() function\n",
    "\n",
    "**At this point, if you were successful with making the pipeline and tuning parameters, you probably have the Hough line segments drawn onto the road, but what about identifying the full extent of the lane and marking it clearly as in the example video (P1_example.mp4)?  Think about defining a line to run the full length of the visible lane based on the line segments you identified with the Hough Transform. As mentioned previously, try to average and/or extrapolate the line segments you've detected to map out the full extent of the lane lines. You can see an example of the result you're going for in the video \"P1_example.mp4\".**\n",
    "\n",
    "**Go back and modify your draw_lines function accordingly and try re-running your pipeline. The new output should draw a single, solid line over the left lane line and a single, solid line over the right lane line. The lines should start from the bottom of the image and extend out to the top of the region of interest.**"
   ]
  },
  {
   "cell_type": "markdown",
   "metadata": {},
   "source": [
    "Now for the one with the solid yellow lane on the left. This one's more tricky!"
   ]
  },
  {
   "cell_type": "code",
   "execution_count": 62,
   "metadata": {},
   "outputs": [
    {
     "name": "stderr",
     "output_type": "stream",
     "text": [
      "\n",
      "                                                                \n",
      "t:  84%|████████▍ | 186/221 [1:08:44<00:00, 88.85it/s, now=None]\u001b[A\n",
      "                                                                \n",
      "t:  84%|████████▍ | 186/221 [1:08:44<00:00, 88.85it/s, now=None]\u001b[A\n",
      "\n",
      "t:   0%|          | 0/681 [00:00<?, ?it/s, now=None]\u001b[A\u001b[A\n",
      "\n",
      "t:   2%|▏         | 15/681 [00:00<00:04, 145.05it/s, now=None]\u001b[A\u001b[A"
     ]
    },
    {
     "name": "stdout",
     "output_type": "stream",
     "text": [
      "Moviepy - Building video test_videos_output/solidYellowLeft.mp4.\n",
      "Moviepy - Writing video test_videos_output/solidYellowLeft.mp4\n",
      "\n"
     ]
    },
    {
     "name": "stderr",
     "output_type": "stream",
     "text": [
      "\n",
      "\n",
      "t:   5%|▍         | 31/681 [00:00<00:04, 146.24it/s, now=None]\u001b[A\u001b[A\n",
      "\n",
      "t:   7%|▋         | 46/681 [00:00<00:04, 146.04it/s, now=None]\u001b[A\u001b[A\n",
      "\n",
      "t:   8%|▊         | 56/681 [00:00<00:05, 121.46it/s, now=None]\u001b[A\u001b[A\n",
      "\n",
      "t:  10%|▉         | 66/681 [00:00<00:05, 105.66it/s, now=None]\u001b[A\u001b[A\n",
      "\n",
      "t:  11%|█         | 75/681 [00:00<00:06, 99.37it/s, now=None] \u001b[A\u001b[A\n",
      "\n",
      "t:  12%|█▏        | 84/681 [00:00<00:06, 96.21it/s, now=None]\u001b[A\u001b[A\n",
      "\n",
      "t:  14%|█▎        | 93/681 [00:00<00:06, 89.10it/s, now=None]\u001b[A\u001b[A\n",
      "\n",
      "t:  15%|█▌        | 103/681 [00:00<00:06, 90.16it/s, now=None]\u001b[A\u001b[A\n",
      "\n",
      "t:  16%|█▋        | 112/681 [00:01<00:06, 84.46it/s, now=None]\u001b[A\u001b[A\n",
      "\n",
      "t:  18%|█▊        | 121/681 [00:01<00:06, 81.75it/s, now=None]\u001b[A\u001b[A\n",
      "\n",
      "t:  19%|█▉        | 130/681 [00:01<00:06, 79.81it/s, now=None]\u001b[A\u001b[A\n",
      "\n",
      "t:  20%|██        | 138/681 [00:01<00:07, 77.51it/s, now=None]\u001b[A\u001b[A\n",
      "\n",
      "t:  21%|██▏       | 146/681 [00:01<00:06, 77.76it/s, now=None]\u001b[A\u001b[A\n",
      "\n",
      "t:  23%|██▎       | 156/681 [00:01<00:06, 81.75it/s, now=None]\u001b[A\u001b[A\n",
      "\n",
      "t:  24%|██▍       | 165/681 [00:01<00:06, 83.83it/s, now=None]\u001b[A\u001b[A\n",
      "\n",
      "t:  26%|██▌       | 174/681 [00:01<00:06, 83.04it/s, now=None]\u001b[A\u001b[A\n",
      "\n",
      "t:  27%|██▋       | 184/681 [00:01<00:05, 86.41it/s, now=None]\u001b[A\u001b[A\n",
      "\n",
      "t:  28%|██▊       | 193/681 [00:02<00:05, 82.88it/s, now=None]\u001b[A\u001b[A\n",
      "\n",
      "t:  30%|██▉       | 202/681 [00:02<00:06, 73.65it/s, now=None]\u001b[A\u001b[A\n",
      "\n",
      "t:  31%|███       | 211/681 [00:02<00:06, 77.74it/s, now=None]\u001b[A\u001b[A\n",
      "\n",
      "t:  32%|███▏      | 220/681 [00:02<00:05, 79.42it/s, now=None]\u001b[A\u001b[A\n",
      "\n",
      "t:  34%|███▎      | 229/681 [00:02<00:05, 80.96it/s, now=None]\u001b[A\u001b[A\n",
      "\n",
      "t:  35%|███▌      | 239/681 [00:02<00:05, 83.89it/s, now=None]\u001b[A\u001b[A\n",
      "\n",
      "t:  36%|███▋      | 248/681 [00:02<00:05, 82.13it/s, now=None]\u001b[A\u001b[A\n",
      "\n",
      "t:  38%|███▊      | 257/681 [00:02<00:05, 76.22it/s, now=None]\u001b[A\u001b[A\n",
      "\n",
      "t:  39%|███▉      | 266/681 [00:03<00:05, 78.53it/s, now=None]\u001b[A\u001b[A\n",
      "\n",
      "t:  40%|████      | 274/681 [00:03<00:05, 78.89it/s, now=None]\u001b[A\u001b[A\n",
      "\n",
      "t:  41%|████▏     | 282/681 [00:03<00:05, 77.51it/s, now=None]\u001b[A\u001b[A\n",
      "\n",
      "t:  43%|████▎     | 290/681 [00:03<00:05, 75.18it/s, now=None]\u001b[A\u001b[A\n",
      "\n",
      "t:  44%|████▍     | 299/681 [00:03<00:04, 77.70it/s, now=None]\u001b[A\u001b[A\n",
      "\n",
      "t:  45%|████▌     | 307/681 [00:03<00:04, 78.11it/s, now=None]\u001b[A\u001b[A\n",
      "\n",
      "t:  46%|████▋     | 315/681 [00:03<00:04, 78.37it/s, now=None]\u001b[A\u001b[A\n",
      "\n",
      "t:  48%|████▊     | 325/681 [00:03<00:04, 82.02it/s, now=None]\u001b[A\u001b[A\n",
      "\n",
      "t:  49%|████▉     | 335/681 [00:03<00:04, 84.20it/s, now=None]\u001b[A\u001b[A\n",
      "\n",
      "t:  51%|█████     | 344/681 [00:04<00:04, 80.04it/s, now=None]\u001b[A\u001b[A\n",
      "\n",
      "t:  52%|█████▏    | 354/681 [00:04<00:03, 84.03it/s, now=None]\u001b[A\u001b[A\n",
      "\n",
      "t:  53%|█████▎    | 363/681 [00:04<00:03, 84.86it/s, now=None]\u001b[A\u001b[A\n",
      "\n",
      "t:  55%|█████▍    | 372/681 [00:04<00:03, 84.10it/s, now=None]\u001b[A\u001b[A\n",
      "\n",
      "t:  56%|█████▌    | 382/681 [00:04<00:03, 87.36it/s, now=None]\u001b[A\u001b[A\n",
      "\n",
      "t:  57%|█████▋    | 391/681 [00:04<00:03, 87.86it/s, now=None]\u001b[A\u001b[A\n",
      "\n",
      "t:  59%|█████▊    | 400/681 [00:04<00:03, 84.50it/s, now=None]\u001b[A\u001b[A\n",
      "\n",
      "t:  60%|██████    | 409/681 [00:04<00:03, 83.01it/s, now=None]\u001b[A\u001b[A\n",
      "\n",
      "t:  61%|██████▏   | 418/681 [00:04<00:03, 82.84it/s, now=None]\u001b[A\u001b[A\n",
      "\n",
      "t:  63%|██████▎   | 427/681 [00:04<00:03, 79.42it/s, now=None]\u001b[A\u001b[A\n",
      "\n",
      "t:  64%|██████▍   | 435/681 [00:05<00:03, 76.91it/s, now=None]\u001b[A\u001b[A\n",
      "\n",
      "t:  65%|██████▌   | 443/681 [00:05<00:03, 74.77it/s, now=None]\u001b[A\u001b[A\n",
      "\n",
      "t:  66%|██████▌   | 451/681 [00:05<00:03, 74.43it/s, now=None]\u001b[A\u001b[A\n",
      "\n",
      "t:  67%|██████▋   | 459/681 [00:05<00:02, 74.20it/s, now=None]\u001b[A\u001b[A\n",
      "\n",
      "t:  69%|██████▉   | 469/681 [00:05<00:02, 80.40it/s, now=None]\u001b[A\u001b[A\n",
      "\n",
      "t:  70%|███████   | 478/681 [00:05<00:02, 83.00it/s, now=None]\u001b[A\u001b[A\n",
      "\n",
      "t:  72%|███████▏  | 487/681 [00:05<00:02, 84.89it/s, now=None]\u001b[A\u001b[A\n",
      "\n",
      "t:  73%|███████▎  | 498/681 [00:05<00:02, 89.40it/s, now=None]\u001b[A\u001b[A\n",
      "\n",
      "t:  75%|███████▍  | 508/681 [00:05<00:01, 89.12it/s, now=None]\u001b[A\u001b[A\n",
      "\n",
      "t:  76%|███████▌  | 518/681 [00:06<00:01, 87.64it/s, now=None]\u001b[A\u001b[A\n",
      "\n",
      "t:  78%|███████▊  | 529/681 [00:06<00:01, 90.62it/s, now=None]\u001b[A\u001b[A\n",
      "\n",
      "t:  79%|███████▉  | 539/681 [00:06<00:01, 84.53it/s, now=None]\u001b[A\u001b[A\n",
      "\n",
      "t:  80%|████████  | 548/681 [00:06<00:01, 80.06it/s, now=None]\u001b[A\u001b[A\n",
      "\n",
      "t:  82%|████████▏ | 557/681 [00:06<00:01, 81.41it/s, now=None]\u001b[A\u001b[A\n",
      "\n",
      "t:  83%|████████▎ | 566/681 [00:06<00:01, 83.18it/s, now=None]\u001b[A\u001b[A\n",
      "\n",
      "t:  84%|████████▍ | 575/681 [00:06<00:01, 81.70it/s, now=None]\u001b[A\u001b[A\n",
      "\n",
      "t:  86%|████████▌ | 584/681 [00:06<00:01, 73.04it/s, now=None]\u001b[A\u001b[A\n",
      "\n",
      "t:  87%|████████▋ | 592/681 [00:07<00:01, 71.42it/s, now=None]\u001b[A\u001b[A\n",
      "\n",
      "t:  88%|████████▊ | 600/681 [00:07<00:01, 70.72it/s, now=None]\u001b[A\u001b[A\n",
      "\n",
      "t:  89%|████████▉ | 608/681 [00:07<00:01, 71.07it/s, now=None]\u001b[A\u001b[A\n",
      "\n",
      "t:  90%|█████████ | 616/681 [00:07<00:00, 67.06it/s, now=None]\u001b[A\u001b[A\n",
      "\n",
      "t:  92%|█████████▏| 624/681 [00:07<00:00, 67.99it/s, now=None]\u001b[A\u001b[A\n",
      "\n",
      "t:  93%|█████████▎| 634/681 [00:07<00:00, 73.16it/s, now=None]\u001b[A\u001b[A\n",
      "\n",
      "t:  94%|█████████▍| 643/681 [00:07<00:00, 77.39it/s, now=None]\u001b[A\u001b[A\n",
      "\n",
      "t:  96%|█████████▌| 654/681 [00:07<00:00, 83.65it/s, now=None]\u001b[A\u001b[A\n",
      "\n",
      "t:  97%|█████████▋| 663/681 [00:07<00:00, 84.11it/s, now=None]\u001b[A\u001b[A\n",
      "\n",
      "t:  99%|█████████▊| 672/681 [00:08<00:00, 83.35it/s, now=None]\u001b[A\u001b[A\n",
      "\n",
      "                                                              \u001b[A\u001b[A\n",
      "                                                                \n",
      "t:  84%|████████▍ | 186/221 [1:08:52<00:00, 88.85it/s, now=None]\u001b[A\n",
      "                                                                \n",
      "t:  84%|████████▍ | 186/221 [1:08:52<00:00, 88.85it/s, now=None]\u001b[A"
     ]
    },
    {
     "name": "stdout",
     "output_type": "stream",
     "text": [
      "Moviepy - Done !\n",
      "Moviepy - video ready test_videos_output/solidYellowLeft.mp4\n",
      "CPU times: user 24.5 s, sys: 826 ms, total: 25.3 s\n",
      "Wall time: 8.49 s\n"
     ]
    }
   ],
   "source": [
    "yellow_output = 'test_videos_output/solidYellowLeft.mp4'\n",
    "## To speed up the testing process you may want to try your pipeline on a shorter subclip of the video\n",
    "## To do so add .subclip(start_second,end_second) to the end of the line below\n",
    "## Where start_second and end_second are integer values representing the start and end of the subclip\n",
    "## You may also uncomment the following line for a subclip of the first 5 seconds\n",
    "##clip2 = VideoFileClip('test_videos/solidYellowLeft.mp4').subclip(0,5)\n",
    "clip2 = VideoFileClip('test_videos/solidYellowLeft.mp4')\n",
    "yellow_clip = clip2.fl_image(process_image)\n",
    "%time yellow_clip.write_videofile(yellow_output, audio=False)"
   ]
  },
  {
   "cell_type": "code",
   "execution_count": 33,
   "metadata": {},
   "outputs": [
    {
     "data": {
      "text/html": [
       "\n",
       "<video width=\"960\" height=\"540\" controls>\n",
       "  <source src=\"test_videos_output/solidYellowLeft.mp4\">\n",
       "</video>\n"
      ],
      "text/plain": [
       "<IPython.core.display.HTML object>"
      ]
     },
     "execution_count": 33,
     "metadata": {},
     "output_type": "execute_result"
    }
   ],
   "source": [
    "HTML(\"\"\"\n",
    "<video width=\"960\" height=\"540\" controls>\n",
    "  <source src=\"{0}\">\n",
    "</video>\n",
    "\"\"\".format(yellow_output))"
   ]
  },
  {
   "cell_type": "markdown",
   "metadata": {},
   "source": [
    "## Writeup and Submission\n",
    "\n",
    "If you're satisfied with your video outputs, it's time to make the report writeup in a pdf or markdown file. Once you have this Ipython notebook ready along with the writeup, it's time to submit for review! Here is a [link](https://github.com/udacity/CarND-LaneLines-P1/blob/master/writeup_template.md) to the writeup template file.\n"
   ]
  },
  {
   "cell_type": "markdown",
   "metadata": {
    "collapsed": true
   },
   "source": [
    "## Optional Challenge\n",
    "\n",
    "Try your lane finding pipeline on the video below.  Does it still work?  Can you figure out a way to make it more robust?  If you're up for the challenge, modify your pipeline so it works with this video and submit it along with the rest of your project!"
   ]
  },
  {
   "cell_type": "code",
   "execution_count": 64,
   "metadata": {
    "scrolled": true
   },
   "outputs": [
    {
     "name": "stderr",
     "output_type": "stream",
     "text": [
      "\n",
      "                                                                \n",
      "t:  84%|████████▍ | 186/221 [1:08:59<00:00, 88.85it/s, now=None]\u001b[A\n",
      "                                                                \n",
      "t:  84%|████████▍ | 186/221 [1:08:59<00:00, 88.85it/s, now=None]\u001b[A\n",
      "\n",
      "t:   0%|          | 0/251 [00:00<?, ?it/s, now=None]\u001b[A\u001b[A"
     ]
    },
    {
     "name": "stdout",
     "output_type": "stream",
     "text": [
      "Moviepy - Building video test_videos_output/challenge.mp4.\n",
      "Moviepy - Writing video test_videos_output/challenge.mp4\n",
      "\n"
     ]
    },
    {
     "name": "stderr",
     "output_type": "stream",
     "text": [
      "\n",
      "\n",
      "t:   4%|▎         | 9/251 [00:00<00:02, 81.46it/s, now=None]\u001b[A\u001b[A\n",
      "\n",
      "t:   7%|▋         | 17/251 [00:00<00:02, 79.82it/s, now=None]\u001b[A\u001b[A\n",
      "\n",
      "t:  10%|▉         | 25/251 [00:00<00:02, 78.42it/s, now=None]\u001b[A\u001b[AWARNING:py.warnings:/home/n0tus/anaconda3/envs/carnd-term1/lib/python3.5/site-packages/ipykernel_launcher.py:84: RuntimeWarning: divide by zero encountered in int_scalars\n",
      "\n",
      "\n",
      "\n",
      "t:  14%|█▎        | 34/251 [00:00<00:02, 78.65it/s, now=None]\u001b[A\u001b[A\n",
      "\n",
      "t:  17%|█▋        | 43/251 [00:00<00:02, 79.98it/s, now=None]\u001b[A\u001b[A\n",
      "\n",
      "t:  20%|█▉        | 50/251 [00:00<00:02, 72.58it/s, now=None]\u001b[A\u001b[A\n",
      "\n",
      "t:  23%|██▎       | 57/251 [00:00<00:02, 69.36it/s, now=None]\u001b[A\u001b[A\n",
      "\n",
      "t:  25%|██▌       | 64/251 [00:00<00:03, 61.85it/s, now=None]\u001b[A\u001b[A\n",
      "\n",
      "t:  28%|██▊       | 70/251 [00:01<00:03, 56.25it/s, now=None]\u001b[A\u001b[A\n",
      "\n",
      "t:  30%|███       | 76/251 [00:01<00:03, 52.16it/s, now=None]\u001b[A\u001b[A\n",
      "\n",
      "t:  33%|███▎      | 82/251 [00:01<00:03, 51.51it/s, now=None]\u001b[A\u001b[A\n",
      "\n",
      "t:  35%|███▌      | 88/251 [00:01<00:03, 47.22it/s, now=None]\u001b[A\u001b[A\n",
      "\n",
      "t:  37%|███▋      | 93/251 [00:01<00:03, 42.03it/s, now=None]\u001b[A\u001b[A\n",
      "\n",
      "t:  39%|███▉      | 98/251 [00:01<00:03, 41.06it/s, now=None]\u001b[A\u001b[A\n",
      "\n",
      "t:  41%|████      | 103/251 [00:01<00:03, 41.23it/s, now=None]\u001b[A\u001b[A\n",
      "\n",
      "t:  43%|████▎     | 108/251 [00:01<00:03, 41.61it/s, now=None]\u001b[A\u001b[A\n",
      "\n",
      "t:  45%|████▌     | 114/251 [00:02<00:03, 44.25it/s, now=None]\u001b[A\u001b[A\n",
      "\n",
      "t:  47%|████▋     | 119/251 [00:02<00:02, 45.45it/s, now=None]\u001b[A\u001b[A\n",
      "\n",
      "t:  49%|████▉     | 124/251 [00:02<00:02, 45.76it/s, now=None]\u001b[A\u001b[A\n",
      "\n",
      "t:  51%|█████▏    | 129/251 [00:02<00:02, 44.58it/s, now=None]\u001b[A\u001b[A\n",
      "\n",
      "t:  53%|█████▎    | 134/251 [00:02<00:02, 45.33it/s, now=None]\u001b[A\u001b[A\n",
      "\n",
      "t:  55%|█████▌    | 139/251 [00:02<00:02, 44.29it/s, now=None]\u001b[A\u001b[A\n",
      "\n",
      "t:  57%|█████▋    | 144/251 [00:02<00:02, 39.53it/s, now=None]\u001b[A\u001b[A\n",
      "\n",
      "t:  59%|█████▉    | 149/251 [00:02<00:02, 38.63it/s, now=None]\u001b[A\u001b[A\n",
      "\n",
      "t:  61%|██████▏   | 154/251 [00:03<00:02, 41.07it/s, now=None]\u001b[A\u001b[A\n",
      "\n",
      "t:  63%|██████▎   | 159/251 [00:03<00:02, 38.29it/s, now=None]\u001b[A\u001b[A\n",
      "\n",
      "t:  65%|██████▍   | 163/251 [00:03<00:02, 36.04it/s, now=None]\u001b[A\u001b[A\n",
      "\n",
      "t:  67%|██████▋   | 167/251 [00:03<00:02, 37.09it/s, now=None]\u001b[A\u001b[A\n",
      "\n",
      "t:  68%|██████▊   | 171/251 [00:03<00:02, 37.53it/s, now=None]\u001b[A\u001b[A\n",
      "\n",
      "t:  70%|███████   | 176/251 [00:03<00:01, 38.46it/s, now=None]\u001b[A\u001b[A\n",
      "\n",
      "t:  72%|███████▏  | 181/251 [00:03<00:01, 41.17it/s, now=None]\u001b[A\u001b[A\n",
      "\n",
      "t:  74%|███████▍  | 186/251 [00:03<00:01, 40.97it/s, now=None]\u001b[A\u001b[A\n",
      "\n",
      "t:  76%|███████▌  | 191/251 [00:03<00:01, 40.07it/s, now=None]\u001b[A\u001b[A\n",
      "\n",
      "t:  78%|███████▊  | 196/251 [00:04<00:01, 41.84it/s, now=None]\u001b[A\u001b[A\n",
      "\n",
      "t:  80%|████████  | 201/251 [00:04<00:01, 38.97it/s, now=None]\u001b[A\u001b[A\n",
      "\n",
      "t:  82%|████████▏ | 206/251 [00:04<00:01, 39.94it/s, now=None]\u001b[A\u001b[A\n",
      "\n",
      "t:  84%|████████▍ | 211/251 [00:04<00:00, 40.33it/s, now=None]\u001b[A\u001b[A\n",
      "\n",
      "t:  86%|████████▌ | 216/251 [00:04<00:00, 39.26it/s, now=None]\u001b[A\u001b[A\n",
      "\n",
      "t:  88%|████████▊ | 221/251 [00:04<00:00, 40.39it/s, now=None]\u001b[A\u001b[A\n",
      "\n",
      "t:  90%|█████████ | 226/251 [00:04<00:00, 42.82it/s, now=None]\u001b[A\u001b[A\n",
      "\n",
      "t:  92%|█████████▏| 231/251 [00:04<00:00, 42.66it/s, now=None]\u001b[A\u001b[A\n",
      "\n",
      "t:  94%|█████████▍| 236/251 [00:05<00:00, 42.19it/s, now=None]\u001b[A\u001b[A\n",
      "\n",
      "t:  96%|█████████▌| 241/251 [00:05<00:00, 41.21it/s, now=None]\u001b[A\u001b[A\n",
      "\n",
      "t:  98%|█████████▊| 246/251 [00:05<00:00, 40.72it/s, now=None]\u001b[A\u001b[A\n",
      "\n",
      "t: 100%|██████████| 251/251 [00:05<00:00, 42.07it/s, now=None]\u001b[A\u001b[A\n",
      "\n",
      "                                                              \u001b[A\u001b[A\n",
      "                                                                \n",
      "t:  84%|████████▍ | 186/221 [1:09:05<00:00, 88.85it/s, now=None]\u001b[A\n",
      "                                                                \n",
      "t:  84%|████████▍ | 186/221 [1:09:05<00:00, 88.85it/s, now=None]\u001b[A"
     ]
    },
    {
     "name": "stdout",
     "output_type": "stream",
     "text": [
      "Moviepy - Done !\n",
      "Moviepy - video ready test_videos_output/challenge.mp4\n",
      "CPU times: user 13 s, sys: 491 ms, total: 13.5 s\n",
      "Wall time: 6.1 s\n"
     ]
    }
   ],
   "source": [
    "challenge_output = 'test_videos_output/challenge.mp4'\n",
    "## To speed up the testing process you may want to try your pipeline on a shorter subclip of the video\n",
    "## To do so add .subclip(start_second,end_second) to the end of the line below\n",
    "## Where start_second and end_second are integer values representing the start and end of the subclip\n",
    "## You may also uncomment the following line for a subclip of the first 5 seconds\n",
    "##clip3 = VideoFileClip('test_videos/challenge.mp4').subclip(0,5)\n",
    "clip3 = VideoFileClip('test_videos/challenge.mp4')\n",
    "challenge_clip = clip3.fl_image(process_image)\n",
    "%time challenge_clip.write_videofile(challenge_output, audio=False)"
   ]
  },
  {
   "cell_type": "code",
   "execution_count": 65,
   "metadata": {},
   "outputs": [
    {
     "data": {
      "text/html": [
       "\n",
       "<video width=\"960\" height=\"540\" controls>\n",
       "  <source src=\"test_videos_output/challenge.mp4\">\n",
       "</video>\n"
      ],
      "text/plain": [
       "<IPython.core.display.HTML object>"
      ]
     },
     "execution_count": 65,
     "metadata": {},
     "output_type": "execute_result"
    }
   ],
   "source": [
    "HTML(\"\"\"\n",
    "<video width=\"960\" height=\"540\" controls>\n",
    "  <source src=\"{0}\">\n",
    "</video>\n",
    "\"\"\".format(challenge_output))"
   ]
  },
  {
   "cell_type": "code",
   "execution_count": null,
   "metadata": {},
   "outputs": [],
   "source": []
  }
 ],
 "metadata": {
  "anaconda-cloud": {},
  "kernelspec": {
   "display_name": "Python 3",
   "language": "python",
   "name": "python3"
  },
  "language_info": {
   "codemirror_mode": {
    "name": "ipython",
    "version": 3
   },
   "file_extension": ".py",
   "mimetype": "text/x-python",
   "name": "python",
   "nbconvert_exporter": "python",
   "pygments_lexer": "ipython3",
   "version": "3.5.2"
  },
  "widgets": {
   "state": {},
   "version": "1.1.2"
  }
 },
 "nbformat": 4,
 "nbformat_minor": 1
}
