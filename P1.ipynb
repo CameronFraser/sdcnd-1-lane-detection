{
 "cells": [
  {
   "cell_type": "markdown",
   "metadata": {},
   "source": [
    "# Self-Driving Car Engineer Nanodegree\n",
    "\n",
    "\n",
    "## Project: **Finding Lane Lines on the Road** \n",
    "***\n",
    "In this project, you will use the tools you learned about in the lesson to identify lane lines on the road.  You can develop your pipeline on a series of individual images, and later apply the result to a video stream (really just a series of images). Check out the video clip \"raw-lines-example.mp4\" (also contained in this repository) to see what the output should look like after using the helper functions below. \n",
    "\n",
    "Once you have a result that looks roughly like \"raw-lines-example.mp4\", you'll need to get creative and try to average and/or extrapolate the line segments you've detected to map out the full extent of the lane lines.  You can see an example of the result you're going for in the video \"P1_example.mp4\".  Ultimately, you would like to draw just one line for the left side of the lane, and one for the right.\n",
    "\n",
    "In addition to implementing code, there is a brief writeup to complete. The writeup should be completed in a separate file, which can be either a markdown file or a pdf document. There is a [write up template](https://github.com/udacity/CarND-LaneLines-P1/blob/master/writeup_template.md) that can be used to guide the writing process. Completing both the code in the Ipython notebook and the writeup template will cover all of the [rubric points](https://review.udacity.com/#!/rubrics/322/view) for this project.\n",
    "\n",
    "---\n",
    "Let's have a look at our first image called 'test_images/solidWhiteRight.jpg'.  Run the 2 cells below (hit Shift-Enter or the \"play\" button above) to display the image.\n",
    "\n",
    "**Note: If, at any point, you encounter frozen display windows or other confounding issues, you can always start again with a clean slate by going to the \"Kernel\" menu above and selecting \"Restart & Clear Output\".**\n",
    "\n",
    "---"
   ]
  },
  {
   "cell_type": "markdown",
   "metadata": {},
   "source": [
    "**The tools you have are color selection, region of interest selection, grayscaling, Gaussian smoothing, Canny Edge Detection and Hough Tranform line detection.  You  are also free to explore and try other techniques that were not presented in the lesson.  Your goal is piece together a pipeline to detect the line segments in the image, then average/extrapolate them and draw them onto the image for display (as below).  Once you have a working pipeline, try it out on the video stream below.**\n",
    "\n",
    "---\n",
    "\n",
    "<figure>\n",
    " <img src=\"examples/line-segments-example.jpg\" width=\"380\" alt=\"Combined Image\" />\n",
    " <figcaption>\n",
    " <p></p> \n",
    " <p style=\"text-align: center;\"> Your output should look something like this (above) after detecting line segments using the helper functions below </p> \n",
    " </figcaption>\n",
    "</figure>\n",
    " <p></p> \n",
    "<figure>\n",
    " <img src=\"examples/laneLines_thirdPass.jpg\" width=\"380\" alt=\"Combined Image\" />\n",
    " <figcaption>\n",
    " <p></p> \n",
    " <p style=\"text-align: center;\"> Your goal is to connect/average/extrapolate line segments to get output like this</p> \n",
    " </figcaption>\n",
    "</figure>"
   ]
  },
  {
   "cell_type": "markdown",
   "metadata": {},
   "source": [
    "**Run the cell below to import some packages.  If you get an `import error` for a package you've already installed, try changing your kernel (select the Kernel menu above --> Change Kernel).  Still have problems?  Try relaunching Jupyter Notebook from the terminal prompt.  Also, consult the forums for more troubleshooting tips.**  "
   ]
  },
  {
   "cell_type": "markdown",
   "metadata": {},
   "source": [
    "## Import Packages"
   ]
  },
  {
   "cell_type": "code",
   "execution_count": 1,
   "metadata": {},
   "outputs": [],
   "source": [
    "#importing some useful packages\n",
    "import matplotlib.pyplot as plt\n",
    "import matplotlib.image as mpimg\n",
    "import numpy as np\n",
    "import cv2\n",
    "%matplotlib inline"
   ]
  },
  {
   "cell_type": "markdown",
   "metadata": {},
   "source": [
    "## Read in an Image"
   ]
  },
  {
   "cell_type": "code",
   "execution_count": 2,
   "metadata": {},
   "outputs": [
    {
     "name": "stdout",
     "output_type": "stream",
     "text": [
      "This image is: <class 'numpy.ndarray'> with dimensions: (540, 960, 3)\n"
     ]
    }
   ],
   "source": [
    "#reading in an image\n",
    "image = mpimg.imread('test_images/solidWhiteRight.jpg')\n",
    "\n",
    "#printing out some stats and plotting\n",
    "print('This image is:', type(image), 'with dimensions:', image.shape)\n",
    "#plt.imshow(image)  # if you wanted to show a single color channel image called 'gray', for example, call as plt.imshow(gray, cmap='gray')"
   ]
  },
  {
   "cell_type": "markdown",
   "metadata": {},
   "source": [
    "## Ideas for Lane Detection Pipeline"
   ]
  },
  {
   "cell_type": "markdown",
   "metadata": {},
   "source": [
    "**Some OpenCV functions (beyond those introduced in the lesson) that might be useful for this project are:**\n",
    "\n",
    "`cv2.inRange()` for color selection  \n",
    "`cv2.fillPoly()` for regions selection  \n",
    "`cv2.line()` to draw lines on an image given endpoints  \n",
    "`cv2.addWeighted()` to coadd / overlay two images  \n",
    "`cv2.cvtColor()` to grayscale or change color  \n",
    "`cv2.imwrite()` to output images to file  \n",
    "`cv2.bitwise_and()` to apply a mask to an image\n",
    "\n",
    "**Check out the OpenCV documentation to learn about these and discover even more awesome functionality!**"
   ]
  },
  {
   "cell_type": "markdown",
   "metadata": {},
   "source": [
    "## Helper Functions"
   ]
  },
  {
   "cell_type": "markdown",
   "metadata": {},
   "source": [
    "Below are some helper functions to help get you started. They should look familiar from the lesson!"
   ]
  },
  {
   "cell_type": "code",
   "execution_count": 26,
   "metadata": {},
   "outputs": [],
   "source": [
    "import math\n",
    "\n",
    "def grayscale(img):\n",
    "    \"\"\"Applies the Grayscale transform\n",
    "    This will return an image with only one color channel\n",
    "    but NOTE: to see the returned image as grayscale\n",
    "    (assuming your grayscaled image is called 'gray')\n",
    "    you should call plt.imshow(gray, cmap='gray')\"\"\"\n",
    "    return cv2.cvtColor(img, cv2.COLOR_RGB2GRAY)\n",
    "    # Or use BGR2GRAY if you read an image with cv2.imread()\n",
    "    # return cv2.cvtColor(img, cv2.COLOR_BGR2GRAY)\n",
    "    \n",
    "def canny(img, low_threshold, high_threshold):\n",
    "    \"\"\"Applies the Canny transform\"\"\"\n",
    "    return cv2.Canny(img, low_threshold, high_threshold)\n",
    "\n",
    "def gaussian_blur(img, kernel_size):\n",
    "    \"\"\"Applies a Gaussian Noise kernel\"\"\"\n",
    "    return cv2.GaussianBlur(img, (kernel_size, kernel_size), 0)\n",
    "\n",
    "def region_of_interest(img, vertices):\n",
    "    \"\"\"\n",
    "    Applies an image mask.\n",
    "    \n",
    "    Only keeps the region of the image defined by the polygon\n",
    "    formed from `vertices`. The rest of the image is set to black.\n",
    "    `vertices` should be a numpy array of integer points.\n",
    "    \"\"\"\n",
    "    #defining a blank mask to start with\n",
    "    mask = np.zeros_like(img)   \n",
    "    \n",
    "    #defining a 3 channel or 1 channel color to fill the mask with depending on the input image\n",
    "    if len(img.shape) > 2:\n",
    "        channel_count = img.shape[2]  # i.e. 3 or 4 depending on your image\n",
    "        ignore_mask_color = (255,) * channel_count\n",
    "    else:\n",
    "        ignore_mask_color = 255\n",
    "        \n",
    "    #filling pixels inside the polygon defined by \"vertices\" with the fill color    \n",
    "    cv2.fillPoly(mask, vertices, ignore_mask_color)\n",
    "    \n",
    "    #returning the image only where mask pixels are nonzero\n",
    "    masked_image = cv2.bitwise_and(img, mask)\n",
    "    return masked_image\n",
    "\n",
    "def average_lines(lines, m, height):\n",
    "    upper = []\n",
    "    lower = []\n",
    "    for line in lines:\n",
    "        for x1,y1,x2,y2 in line:\n",
    "            b = y1 - m*x1\n",
    "            upper.append((height - b) / m)\n",
    "            lower.append((height/2+50 - b) / m)\n",
    "                 \n",
    "    return [int(sum(upper)/len(upper)), int(sum(lower)/len(lower))]\n",
    "\n",
    "\n",
    "def draw_lines(img, lines, color=[0, 255, 0], thickness=4):\n",
    "    \"\"\"\n",
    "    NOTE: this is the function you might want to use as a starting point once you want to \n",
    "    average/extrapolate the line segments you detect to map out the full\n",
    "    extent of the lane (going from the result shown in raw-lines-example.mp4\n",
    "    to that shown in P1_example.mp4).  \n",
    "    \n",
    "    Think about things like separating line segments by their \n",
    "    slope ((y2-y1)/(x2-x1)) to decide which segments are part of the left\n",
    "    line vs. the right line.  Then, you can average the position of each of \n",
    "    the lines and extrapolate to the top and bottom of the lane.\n",
    "    \n",
    "    This function draws `lines` with `color` and `thickness`.    \n",
    "    Lines are drawn on the image inplace (mutates the image).\n",
    "    If you want to make the lines semi-transparent, think about combining\n",
    "    this function with the weighted_img() function below\n",
    "    \"\"\"\n",
    "    height, width, _ = img.shape\n",
    "    left_lane = []\n",
    "    right_lane = []\n",
    "    left_slopes = []\n",
    "    right_slopes = []\n",
    "    upper_threshold = 0.8\n",
    "    lower_threshold = 0.3\n",
    "    for line in lines:\n",
    "        for x1,y1,x2,y2 in line:\n",
    "            slope = (y2-y1)/(x2-x1)\n",
    "            if slope <  -1 * lower_threshold and slope > -1 * upper_threshold:\n",
    "                left_lane.append(line)\n",
    "                left_slopes.append(slope)\n",
    "            elif slope > lower_threshold and slope < upper_threshold:\n",
    "                right_lane.append(line)\n",
    "                right_slopes.append(slope)\n",
    "    \n",
    "    left_upper_average, left_lower_average = average_lines(left_lane, sum(left_slopes)/len(left_slopes), height)\n",
    "    right_upper_average, right_lower_average = average_lines(right_lane, sum(right_slopes)/len(right_slopes), height)      \n",
    "    cv2.line(img, (left_upper_average, height), (left_lower_average, int(height/2+50)), color, thickness)\n",
    "    cv2.line(img, (right_upper_average, height), (right_lower_average, int(height/2+50)), color, thickness)\n",
    "\n",
    "def hough_lines(img, rho, theta, threshold, min_line_len, max_line_gap):\n",
    "    \"\"\"\n",
    "    `img` should be the output of a Canny transform.\n",
    "        \n",
    "    Returns an image with hough lines drawn.\n",
    "    \"\"\"\n",
    "    lines = cv2.HoughLinesP(img, rho, theta, threshold, np.array([]), minLineLength=min_line_len, maxLineGap=max_line_gap)\n",
    "    line_img = np.zeros((img.shape[0], img.shape[1], 3), dtype=np.uint8)\n",
    "    draw_lines(line_img, lines)\n",
    "    return line_img\n",
    "\n",
    "# Python 3 has support for cool math symbols.\n",
    "\n",
    "def weighted_img(img, initial_img, α=0.8, β=1., γ=0.):\n",
    "    \"\"\"\n",
    "    `img` is the output of the hough_lines(), An image with lines drawn on it.\n",
    "    Should be a blank image (all black) with lines drawn on it.\n",
    "    \n",
    "    `initial_img` should be the image before any processing.\n",
    "    \n",
    "    The result image is computed as follows:\n",
    "    \n",
    "    initial_img * α + img * β + γ\n",
    "    NOTE: initial_img and img must be the same shape!\n",
    "    \"\"\"\n",
    "    return cv2.addWeighted(initial_img, α, img, β, γ)"
   ]
  },
  {
   "cell_type": "markdown",
   "metadata": {},
   "source": [
    "## Test Images\n",
    "\n",
    "Build your pipeline to work on the images in the directory \"test_images\"  \n",
    "**You should make sure your pipeline works well on these images before you try the videos.**"
   ]
  },
  {
   "cell_type": "code",
   "execution_count": 4,
   "metadata": {},
   "outputs": [
    {
     "data": {
      "text/plain": [
       "['whiteCarLaneSwitch.jpg',\n",
       " 'solidYellowLeft.jpg',\n",
       " 'solidWhiteRight.jpg',\n",
       " 'solidWhiteCurve.jpg',\n",
       " 'solidYellowCurve2.jpg',\n",
       " 'solidYellowCurve.jpg']"
      ]
     },
     "execution_count": 4,
     "metadata": {},
     "output_type": "execute_result"
    }
   ],
   "source": [
    "import os\n",
    "os.listdir(\"test_images/\")"
   ]
  },
  {
   "cell_type": "markdown",
   "metadata": {},
   "source": [
    "## Build a Lane Finding Pipeline\n",
    "\n"
   ]
  },
  {
   "cell_type": "markdown",
   "metadata": {},
   "source": [
    "Build the pipeline and run your solution on all test_images. Make copies into the `test_images_output` directory, and you can use the images in your writeup report.\n",
    "\n",
    "Try tuning the various parameters, especially the low and high Canny thresholds as well as the Hough lines parameters."
   ]
  },
  {
   "cell_type": "code",
   "execution_count": 27,
   "metadata": {},
   "outputs": [],
   "source": [
    "def lane_finding_pipeline(image):\n",
    "    height, width, _ = image.shape\n",
    "    grey_image = grayscale(image)\n",
    "\n",
    "    blurred_image = gaussian_blur(grey_image, 5)\n",
    "\n",
    "    canny_image = canny(blurred_image, 50, 150)\n",
    "\n",
    "    bottom_left = (0,height)\n",
    "    upper_left = (width/2, height/2 + 45)\n",
    "    upper_right = (width/2, height/2 + 45)\n",
    "    bottom_right = (width,height)\n",
    "    vertices = np.array([[bottom_left,upper_left, upper_right, bottom_right]], dtype=np.int32)\n",
    "\n",
    "    region_of_interest_image = region_of_interest(canny_image, vertices)\n",
    "\n",
    "    hough_image = hough_lines(region_of_interest_image, 1, np.pi/180, 10, 10, 4)\n",
    "\n",
    "    weighted_image = weighted_img(hough_image, image)\n",
    "    \n",
    "    return weighted_image\n",
    "\n",
    "\n",
    "image_list = os.listdir(\"test_images/\")\n",
    "\n",
    "for i in range(len(image_list)):\n",
    "    image = mpimg.imread(\"test_images/\" + str(image_list[i]))\n",
    "    processed_image = lane_finding_pipeline(image)\n",
    "    mpimg.imsave(\"test_images_output/\" + str(image_list[i]), processed_image)"
   ]
  },
  {
   "cell_type": "markdown",
   "metadata": {},
   "source": [
    "## Test on Videos\n",
    "\n",
    "You know what's cooler than drawing lanes over images? Drawing lanes over video!\n",
    "\n",
    "We can test our solution on two provided videos:\n",
    "\n",
    "`solidWhiteRight.mp4`\n",
    "\n",
    "`solidYellowLeft.mp4`\n",
    "\n",
    "**Note: if you get an import error when you run the next cell, try changing your kernel (select the Kernel menu above --> Change Kernel). Still have problems? Try relaunching Jupyter Notebook from the terminal prompt. Also, consult the forums for more troubleshooting tips.**\n",
    "\n",
    "**If you get an error that looks like this:**\n",
    "```\n",
    "NeedDownloadError: Need ffmpeg exe. \n",
    "You can download it by calling: \n",
    "imageio.plugins.ffmpeg.download()\n",
    "```\n",
    "**Follow the instructions in the error message and check out [this forum post](https://discussions.udacity.com/t/project-error-of-test-on-videos/274082) for more troubleshooting tips across operating systems.**"
   ]
  },
  {
   "cell_type": "code",
   "execution_count": 28,
   "metadata": {},
   "outputs": [],
   "source": [
    "# Import everything needed to edit/save/watch video clips\n",
    "from moviepy.editor import VideoFileClip\n",
    "from IPython.display import HTML"
   ]
  },
  {
   "cell_type": "code",
   "execution_count": 29,
   "metadata": {},
   "outputs": [],
   "source": [
    "def process_image(image):\n",
    "    # NOTE: The output you return should be a color image (3 channel) for processing video below\n",
    "    # TODO: put your pipeline here,\n",
    "    # you should return the final output (image where lines are drawn on lanes)\n",
    "    \n",
    "    return lane_finding_pipeline(image)"
   ]
  },
  {
   "cell_type": "markdown",
   "metadata": {},
   "source": [
    "Let's try the one with the solid white lane on the right first ..."
   ]
  },
  {
   "cell_type": "code",
   "execution_count": 30,
   "metadata": {},
   "outputs": [
    {
     "name": "stderr",
     "output_type": "stream",
     "text": [
      "                                                              \n",
      "t:  84%|████████▍ | 186/221 [08:05<00:00, 88.85it/s, now=None]\n",
      "                                                              \u001b[A\n",
      "t:  84%|████████▍ | 186/221 [08:05<00:00, 88.85it/s, now=None]\n",
      "t:  84%|████████▍ | 186/221 [07:57<00:00, 84.13it/s, now=None]\u001b[A\n",
      "\n",
      "t:   0%|          | 0/221 [00:00<?, ?it/s, now=None]\u001b[A\u001b[A\n",
      "\n",
      "t:   7%|▋         | 16/221 [00:00<00:01, 158.52it/s, now=None]\u001b[A\u001b[A"
     ]
    },
    {
     "name": "stdout",
     "output_type": "stream",
     "text": [
      "Moviepy - Building video test_videos_output/solidWhiteRight.mp4.\n",
      "Moviepy - Writing video test_videos_output/solidWhiteRight.mp4\n",
      "\n"
     ]
    },
    {
     "name": "stderr",
     "output_type": "stream",
     "text": [
      "\n",
      "\n",
      "t:  15%|█▍        | 33/221 [00:00<00:01, 161.02it/s, now=None]\u001b[A\u001b[A\n",
      "\n",
      "t:  22%|██▏       | 48/221 [00:00<00:01, 145.81it/s, now=None]\u001b[A\u001b[A\n",
      "\n",
      "t:  27%|██▋       | 59/221 [00:00<00:01, 131.07it/s, now=None]\u001b[A\u001b[A\n",
      "\n",
      "t:  31%|███       | 69/221 [00:00<00:01, 113.84it/s, now=None]\u001b[A\u001b[A\n",
      "\n",
      "t:  36%|███▌      | 80/221 [00:00<00:01, 108.86it/s, now=None]\u001b[A\u001b[A\n",
      "\n",
      "t:  41%|████      | 90/221 [00:00<00:01, 96.30it/s, now=None] \u001b[A\u001b[A\n",
      "\n",
      "t:  45%|████▍     | 99/221 [00:00<00:01, 87.81it/s, now=None]\u001b[A\u001b[A\n",
      "\n",
      "t:  49%|████▉     | 108/221 [00:01<00:01, 85.90it/s, now=None]\u001b[A\u001b[A\n",
      "\n",
      "t:  53%|█████▎    | 117/221 [00:01<00:01, 83.71it/s, now=None]\u001b[A\u001b[A\n",
      "\n",
      "t:  57%|█████▋    | 126/221 [00:01<00:01, 75.95it/s, now=None]\u001b[A\u001b[A\n",
      "\n",
      "t:  61%|██████    | 135/221 [00:01<00:01, 78.41it/s, now=None]\u001b[A\u001b[A\n",
      "\n",
      "t:  66%|██████▌   | 145/221 [00:01<00:00, 81.73it/s, now=None]\u001b[A\u001b[A\n",
      "\n",
      "t:  70%|██████▉   | 154/221 [00:01<00:00, 78.32it/s, now=None]\u001b[A\u001b[A\n",
      "\n",
      "t:  73%|███████▎  | 162/221 [00:01<00:00, 77.00it/s, now=None]\u001b[A\u001b[A\n",
      "\n",
      "t:  77%|███████▋  | 171/221 [00:01<00:00, 78.61it/s, now=None]\u001b[A\u001b[A\n",
      "\n",
      "t:  81%|████████  | 179/221 [00:01<00:00, 73.94it/s, now=None]\u001b[A\u001b[A\n",
      "\n",
      "t:  85%|████████▍ | 187/221 [00:02<00:00, 73.73it/s, now=None]\u001b[A\u001b[A\n",
      "\n",
      "t:  89%|████████▊ | 196/221 [00:02<00:00, 76.57it/s, now=None]\u001b[A\u001b[A\n",
      "\n",
      "t:  93%|█████████▎| 205/221 [00:02<00:00, 79.66it/s, now=None]\u001b[A\u001b[A\n",
      "\n",
      "t:  97%|█████████▋| 215/221 [00:02<00:00, 84.68it/s, now=None]\u001b[A\u001b[A\n",
      "\n",
      "                                                              \u001b[A\u001b[A\n",
      "t:  84%|████████▍ | 186/221 [08:08<00:00, 88.85it/s, now=None]\n",
      "                                                              \u001b[A\n",
      "t:  84%|████████▍ | 186/221 [08:08<00:00, 88.85it/s, now=None]\n",
      "t:  84%|████████▍ | 186/221 [08:00<00:00, 84.13it/s, now=None]\u001b[A"
     ]
    },
    {
     "name": "stdout",
     "output_type": "stream",
     "text": [
      "Moviepy - Done !\n",
      "Moviepy - video ready test_videos_output/solidWhiteRight.mp4\n",
      "CPU times: user 7.64 s, sys: 247 ms, total: 7.88 s\n",
      "Wall time: 2.83 s\n"
     ]
    }
   ],
   "source": [
    "white_output = 'test_videos_output/solidWhiteRight.mp4'\n",
    "## To speed up the testing process you may want to try your pipeline on a shorter subclip of the video\n",
    "## To do so add .subclip(start_second,end_second) to the end of the line below\n",
    "## Where start_second and end_second are integer values representing the start and end of the subclip\n",
    "## You may also uncomment the following line for a subclip of the first 5 seconds\n",
    "##clip1 = VideoFileClip(\"test_videos/solidWhiteRight.mp4\").subclip(0,5)\n",
    "clip1 = VideoFileClip(\"test_videos/solidWhiteRight.mp4\")\n",
    "white_clip = clip1.fl_image(process_image) #NOTE: this function expects color images!!\n",
    "%time white_clip.write_videofile(white_output, audio=False)"
   ]
  },
  {
   "cell_type": "markdown",
   "metadata": {},
   "source": [
    "Play the video inline, or if you prefer find the video in your filesystem (should be in the same directory) and play it in your video player of choice."
   ]
  },
  {
   "cell_type": "code",
   "execution_count": 31,
   "metadata": {
    "scrolled": true
   },
   "outputs": [
    {
     "data": {
      "text/html": [
       "\n",
       "<video width=\"960\" height=\"540\" controls>\n",
       "  <source src=\"test_videos_output/solidWhiteRight.mp4\">\n",
       "</video>\n"
      ],
      "text/plain": [
       "<IPython.core.display.HTML object>"
      ]
     },
     "execution_count": 31,
     "metadata": {},
     "output_type": "execute_result"
    }
   ],
   "source": [
    "HTML(\"\"\"\n",
    "<video width=\"960\" height=\"540\" controls>\n",
    "  <source src=\"{0}\">\n",
    "</video>\n",
    "\"\"\".format(white_output))"
   ]
  },
  {
   "cell_type": "markdown",
   "metadata": {},
   "source": [
    "## Improve the draw_lines() function\n",
    "\n",
    "**At this point, if you were successful with making the pipeline and tuning parameters, you probably have the Hough line segments drawn onto the road, but what about identifying the full extent of the lane and marking it clearly as in the example video (P1_example.mp4)?  Think about defining a line to run the full length of the visible lane based on the line segments you identified with the Hough Transform. As mentioned previously, try to average and/or extrapolate the line segments you've detected to map out the full extent of the lane lines. You can see an example of the result you're going for in the video \"P1_example.mp4\".**\n",
    "\n",
    "**Go back and modify your draw_lines function accordingly and try re-running your pipeline. The new output should draw a single, solid line over the left lane line and a single, solid line over the right lane line. The lines should start from the bottom of the image and extend out to the top of the region of interest.**"
   ]
  },
  {
   "cell_type": "markdown",
   "metadata": {},
   "source": [
    "Now for the one with the solid yellow lane on the left. This one's more tricky!"
   ]
  },
  {
   "cell_type": "code",
   "execution_count": 23,
   "metadata": {},
   "outputs": [
    {
     "name": "stderr",
     "output_type": "stream",
     "text": [
      "                                                              \n",
      "t:  84%|████████▍ | 186/221 [03:01<00:00, 88.85it/s, now=None]\n",
      "                                                              \u001b[A\n",
      "t:  84%|████████▍ | 186/221 [03:01<00:00, 88.85it/s, now=None]\n",
      "t:  84%|████████▍ | 186/221 [02:52<00:00, 84.13it/s, now=None]\u001b[A\n",
      "\n",
      "t:   0%|          | 0/681 [00:00<?, ?it/s, now=None]\u001b[A\u001b[A\n",
      "\n",
      "t:   2%|▏         | 16/681 [00:00<00:04, 156.28it/s, now=None]\u001b[A\u001b[A"
     ]
    },
    {
     "name": "stdout",
     "output_type": "stream",
     "text": [
      "Moviepy - Building video test_videos_output/solidYellowLeft.mp4.\n",
      "Moviepy - Writing video test_videos_output/solidYellowLeft.mp4\n",
      "\n"
     ]
    },
    {
     "name": "stderr",
     "output_type": "stream",
     "text": [
      "\n",
      "\n",
      "t:   5%|▍         | 32/681 [00:00<00:04, 157.26it/s, now=None]\u001b[A\u001b[A\n",
      "\n",
      "t:   7%|▋         | 48/681 [00:00<00:04, 143.66it/s, now=None]\u001b[A\u001b[A\n",
      "\n",
      "t:   9%|▊         | 59/681 [00:00<00:04, 129.13it/s, now=None]\u001b[A\u001b[A\n",
      "\n",
      "t:  10%|█         | 69/681 [00:00<00:05, 112.35it/s, now=None]\u001b[A\u001b[A\n",
      "\n",
      "t:  12%|█▏        | 79/681 [00:00<00:05, 104.54it/s, now=None]\u001b[A\u001b[A\n",
      "\n",
      "t:  13%|█▎        | 89/681 [00:00<00:06, 97.16it/s, now=None] \u001b[A\u001b[A\n",
      "\n",
      "t:  14%|█▍        | 98/681 [00:00<00:06, 94.82it/s, now=None]\u001b[A\u001b[A\n",
      "\n",
      "t:  16%|█▌        | 107/681 [00:01<00:06, 87.32it/s, now=None]\u001b[A\u001b[A\n",
      "\n",
      "t:  17%|█▋        | 116/681 [00:01<00:06, 83.93it/s, now=None]\u001b[A\u001b[A\n",
      "\n",
      "t:  18%|█▊        | 125/681 [00:01<00:06, 80.02it/s, now=None]\u001b[A\u001b[A\n",
      "\n",
      "t:  20%|█▉        | 135/681 [00:01<00:06, 83.86it/s, now=None]\u001b[A\u001b[A\n",
      "\n",
      "t:  21%|██▏       | 145/681 [00:01<00:06, 87.05it/s, now=None]\u001b[A\u001b[A\n",
      "\n",
      "t:  23%|██▎       | 154/681 [00:01<00:06, 86.44it/s, now=None]\u001b[A\u001b[A\n",
      "\n",
      "t:  24%|██▍       | 164/681 [00:01<00:05, 87.42it/s, now=None]\u001b[A\u001b[A\n",
      "\n",
      "t:  26%|██▌       | 175/681 [00:01<00:05, 91.68it/s, now=None]\u001b[A\u001b[A\n",
      "\n",
      "t:  27%|██▋       | 185/681 [00:01<00:05, 83.40it/s, now=None]\u001b[A\u001b[A\n",
      "\n",
      "t:  29%|██▉       | 196/681 [00:02<00:05, 88.77it/s, now=None]\u001b[A\u001b[A\n",
      "\n",
      "t:  30%|███       | 206/681 [00:02<00:05, 88.76it/s, now=None]\u001b[A\u001b[A\n",
      "\n",
      "t:  32%|███▏      | 216/681 [00:02<00:05, 84.85it/s, now=None]\u001b[A\u001b[A\n",
      "\n",
      "t:  33%|███▎      | 225/681 [00:02<00:05, 78.71it/s, now=None]\u001b[A\u001b[A\n",
      "\n",
      "t:  34%|███▍      | 234/681 [00:02<00:05, 78.46it/s, now=None]\u001b[A\u001b[A\n",
      "\n",
      "t:  36%|███▌      | 242/681 [00:02<00:05, 75.55it/s, now=None]\u001b[A\u001b[A\n",
      "\n",
      "t:  37%|███▋      | 250/681 [00:02<00:05, 74.53it/s, now=None]\u001b[A\u001b[A\n",
      "\n",
      "t:  38%|███▊      | 258/681 [00:02<00:06, 67.73it/s, now=None]\u001b[A\u001b[A\n",
      "\n",
      "t:  39%|███▉      | 265/681 [00:03<00:06, 67.86it/s, now=None]\u001b[A\u001b[A\n",
      "\n",
      "t:  40%|███▉      | 272/681 [00:03<00:06, 67.86it/s, now=None]\u001b[A\u001b[A\n",
      "\n",
      "t:  41%|████      | 279/681 [00:03<00:06, 65.82it/s, now=None]\u001b[A\u001b[A\n",
      "\n",
      "t:  42%|████▏     | 286/681 [00:03<00:06, 62.57it/s, now=None]\u001b[A\u001b[A\n",
      "\n",
      "t:  43%|████▎     | 295/681 [00:03<00:05, 66.44it/s, now=None]\u001b[A\u001b[A\n",
      "\n",
      "t:  44%|████▍     | 303/681 [00:03<00:05, 69.49it/s, now=None]\u001b[A\u001b[A\n",
      "\n",
      "t:  46%|████▌     | 311/681 [00:03<00:05, 69.01it/s, now=None]\u001b[A\u001b[A\n",
      "\n",
      "t:  47%|████▋     | 319/681 [00:03<00:05, 71.48it/s, now=None]\u001b[A\u001b[A\n",
      "\n",
      "t:  48%|████▊     | 327/681 [00:03<00:04, 73.13it/s, now=None]\u001b[A\u001b[A\n",
      "\n",
      "t:  49%|████▉     | 335/681 [00:04<00:04, 71.94it/s, now=None]\u001b[A\u001b[A\n",
      "\n",
      "t:  51%|█████     | 345/681 [00:04<00:04, 77.70it/s, now=None]\u001b[A\u001b[A\n",
      "\n",
      "t:  52%|█████▏    | 353/681 [00:04<00:04, 75.79it/s, now=None]\u001b[A\u001b[A\n",
      "\n",
      "t:  53%|█████▎    | 361/681 [00:04<00:04, 72.28it/s, now=None]\u001b[A\u001b[A\n",
      "\n",
      "t:  54%|█████▍    | 369/681 [00:04<00:04, 73.86it/s, now=None]\u001b[A\u001b[A\n",
      "\n",
      "t:  55%|█████▌    | 377/681 [00:04<00:04, 71.12it/s, now=None]\u001b[A\u001b[A\n",
      "\n",
      "t:  57%|█████▋    | 385/681 [00:04<00:04, 70.96it/s, now=None]\u001b[A\u001b[A\n",
      "\n",
      "t:  58%|█████▊    | 393/681 [00:04<00:04, 66.86it/s, now=None]\u001b[A\u001b[A\n",
      "\n",
      "t:  59%|█████▊    | 400/681 [00:04<00:04, 67.44it/s, now=None]\u001b[A\u001b[A\n",
      "\n",
      "t:  60%|█████▉    | 407/681 [00:05<00:04, 66.34it/s, now=None]\u001b[A\u001b[A\n",
      "\n",
      "t:  61%|██████    | 414/681 [00:05<00:04, 66.48it/s, now=None]\u001b[A\u001b[A\n",
      "\n",
      "t:  62%|██████▏   | 423/681 [00:05<00:03, 69.99it/s, now=None]\u001b[A\u001b[A\n",
      "\n",
      "t:  63%|██████▎   | 431/681 [00:05<00:03, 70.92it/s, now=None]\u001b[A\u001b[A\n",
      "\n",
      "t:  65%|██████▍   | 440/681 [00:05<00:03, 73.45it/s, now=None]\u001b[A\u001b[A\n",
      "\n",
      "t:  66%|██████▌   | 448/681 [00:05<00:03, 70.59it/s, now=None]\u001b[A\u001b[A\n",
      "\n",
      "t:  67%|██████▋   | 456/681 [00:05<00:03, 72.97it/s, now=None]\u001b[A\u001b[A\n",
      "\n",
      "t:  68%|██████▊   | 464/681 [00:05<00:03, 72.25it/s, now=None]\u001b[A\u001b[A\n",
      "\n",
      "t:  69%|██████▉   | 473/681 [00:05<00:02, 75.12it/s, now=None]\u001b[A\u001b[A\n",
      "\n",
      "t:  71%|███████   | 481/681 [00:06<00:02, 76.39it/s, now=None]\u001b[A\u001b[A\n",
      "\n",
      "t:  72%|███████▏  | 489/681 [00:06<00:02, 73.03it/s, now=None]\u001b[A\u001b[A\n",
      "\n",
      "t:  73%|███████▎  | 498/681 [00:06<00:02, 76.52it/s, now=None]\u001b[A\u001b[A\n",
      "\n",
      "t:  74%|███████▍  | 506/681 [00:06<00:02, 73.34it/s, now=None]\u001b[A\u001b[A\n",
      "\n",
      "t:  75%|███████▌  | 514/681 [00:06<00:02, 70.49it/s, now=None]\u001b[A\u001b[A\n",
      "\n",
      "t:  77%|███████▋  | 522/681 [00:06<00:02, 67.32it/s, now=None]\u001b[A\u001b[A\n",
      "\n",
      "t:  78%|███████▊  | 529/681 [00:06<00:02, 64.93it/s, now=None]\u001b[A\u001b[A\n",
      "\n",
      "t:  79%|███████▊  | 536/681 [00:06<00:02, 65.27it/s, now=None]\u001b[A\u001b[A\n",
      "\n",
      "t:  80%|███████▉  | 543/681 [00:06<00:02, 65.86it/s, now=None]\u001b[A\u001b[A\n",
      "\n",
      "t:  81%|████████  | 551/681 [00:07<00:01, 68.55it/s, now=None]\u001b[A\u001b[A\n",
      "\n",
      "t:  82%|████████▏ | 560/681 [00:07<00:01, 72.11it/s, now=None]\u001b[A\u001b[A\n",
      "\n",
      "t:  84%|████████▎ | 569/681 [00:07<00:01, 75.46it/s, now=None]\u001b[A\u001b[A\n",
      "\n",
      "t:  85%|████████▌ | 579/681 [00:07<00:01, 80.23it/s, now=None]\u001b[A\u001b[A\n",
      "\n",
      "t:  86%|████████▋ | 588/681 [00:07<00:01, 80.91it/s, now=None]\u001b[A\u001b[A\n",
      "\n",
      "t:  88%|████████▊ | 599/681 [00:07<00:00, 85.83it/s, now=None]\u001b[A\u001b[A\n",
      "\n",
      "t:  89%|████████▉ | 609/681 [00:07<00:00, 89.13it/s, now=None]\u001b[A\u001b[A\n",
      "\n",
      "t:  91%|█████████ | 619/681 [00:07<00:00, 90.86it/s, now=None]\u001b[A\u001b[A\n",
      "\n",
      "t:  92%|█████████▏| 629/681 [00:07<00:00, 91.65it/s, now=None]\u001b[A\u001b[A\n",
      "\n",
      "t:  94%|█████████▍| 639/681 [00:08<00:00, 91.24it/s, now=None]\u001b[A\u001b[A\n",
      "\n",
      "t:  95%|█████████▌| 649/681 [00:08<00:00, 91.30it/s, now=None]\u001b[A\u001b[A\n",
      "\n",
      "t:  97%|█████████▋| 659/681 [00:08<00:00, 91.93it/s, now=None]\u001b[A\u001b[A\n",
      "\n",
      "t:  98%|█████████▊| 669/681 [00:08<00:00, 85.47it/s, now=None]\u001b[A\u001b[A\n",
      "\n",
      "t: 100%|█████████▉| 678/681 [00:08<00:00, 78.66it/s, now=None]\u001b[A\u001b[A\n",
      "\n",
      "                                                              \u001b[A\u001b[A\n",
      "t:  84%|████████▍ | 186/221 [03:10<00:00, 88.85it/s, now=None]\n",
      "                                                              \u001b[A\n",
      "t:  84%|████████▍ | 186/221 [03:10<00:00, 88.85it/s, now=None]\n",
      "t:  84%|████████▍ | 186/221 [03:01<00:00, 84.13it/s, now=None]\u001b[A"
     ]
    },
    {
     "name": "stdout",
     "output_type": "stream",
     "text": [
      "Moviepy - Done !\n",
      "Moviepy - video ready test_videos_output/solidYellowLeft.mp4\n",
      "CPU times: user 25.3 s, sys: 868 ms, total: 26.2 s\n",
      "Wall time: 8.92 s\n"
     ]
    }
   ],
   "source": [
    "yellow_output = 'test_videos_output/solidYellowLeft.mp4'\n",
    "## To speed up the testing process you may want to try your pipeline on a shorter subclip of the video\n",
    "## To do so add .subclip(start_second,end_second) to the end of the line below\n",
    "## Where start_second and end_second are integer values representing the start and end of the subclip\n",
    "## You may also uncomment the following line for a subclip of the first 5 seconds\n",
    "##clip2 = VideoFileClip('test_videos/solidYellowLeft.mp4').subclip(0,5)\n",
    "clip2 = VideoFileClip('test_videos/solidYellowLeft.mp4')\n",
    "yellow_clip = clip2.fl_image(process_image)\n",
    "%time yellow_clip.write_videofile(yellow_output, audio=False)"
   ]
  },
  {
   "cell_type": "code",
   "execution_count": 62,
   "metadata": {},
   "outputs": [
    {
     "data": {
      "text/html": [
       "\n",
       "<video width=\"960\" height=\"540\" controls>\n",
       "  <source src=\"test_videos_output/solidYellowLeft.mp4\">\n",
       "</video>\n"
      ],
      "text/plain": [
       "<IPython.core.display.HTML object>"
      ]
     },
     "execution_count": 62,
     "metadata": {},
     "output_type": "execute_result"
    }
   ],
   "source": [
    "HTML(\"\"\"\n",
    "<video width=\"960\" height=\"540\" controls>\n",
    "  <source src=\"{0}\">\n",
    "</video>\n",
    "\"\"\".format(yellow_output))"
   ]
  },
  {
   "cell_type": "markdown",
   "metadata": {},
   "source": [
    "## Writeup and Submission\n",
    "\n",
    "If you're satisfied with your video outputs, it's time to make the report writeup in a pdf or markdown file. Once you have this Ipython notebook ready along with the writeup, it's time to submit for review! Here is a [link](https://github.com/udacity/CarND-LaneLines-P1/blob/master/writeup_template.md) to the writeup template file.\n"
   ]
  },
  {
   "cell_type": "markdown",
   "metadata": {
    "collapsed": true
   },
   "source": [
    "## Optional Challenge\n",
    "\n",
    "Try your lane finding pipeline on the video below.  Does it still work?  Can you figure out a way to make it more robust?  If you're up for the challenge, modify your pipeline so it works with this video and submit it along with the rest of your project!"
   ]
  },
  {
   "cell_type": "code",
   "execution_count": 24,
   "metadata": {
    "scrolled": true
   },
   "outputs": [
    {
     "name": "stderr",
     "output_type": "stream",
     "text": [
      "                                                              \n",
      "t:  84%|████████▍ | 186/221 [03:37<00:00, 88.85it/s, now=None]\n",
      "                                                              \u001b[A\n",
      "t:  84%|████████▍ | 186/221 [03:37<00:00, 88.85it/s, now=None]\n",
      "t:  84%|████████▍ | 186/221 [03:28<00:00, 84.13it/s, now=None]\u001b[A\n",
      "\n",
      "t:   0%|          | 0/251 [00:00<?, ?it/s, now=None]\u001b[A\u001b[A\n",
      "\n",
      "t:   4%|▎         | 9/251 [00:00<00:02, 84.22it/s, now=None]\u001b[A\u001b[A"
     ]
    },
    {
     "name": "stdout",
     "output_type": "stream",
     "text": [
      "Moviepy - Building video test_videos_output/challenge.mp4.\n",
      "Moviepy - Writing video test_videos_output/challenge.mp4\n",
      "\n"
     ]
    },
    {
     "name": "stderr",
     "output_type": "stream",
     "text": [
      "\n",
      "\n",
      "t:   7%|▋         | 18/251 [00:00<00:02, 83.56it/s, now=None]\u001b[A\u001b[A\n",
      "\n",
      "t:  11%|█         | 27/251 [00:00<00:02, 83.21it/s, now=None]\u001b[A\u001b[AWARNING:py.warnings:/home/n0tus/anaconda3/envs/carnd-term1/lib/python3.5/site-packages/ipykernel_launcher.py:84: RuntimeWarning: divide by zero encountered in int_scalars\n",
      "\n",
      "\n",
      "\n",
      "t:  14%|█▍        | 36/251 [00:00<00:02, 83.76it/s, now=None]\u001b[A\u001b[A\n",
      "\n",
      "t:  18%|█▊        | 45/251 [00:00<00:02, 83.57it/s, now=None]\u001b[A\u001b[A\n",
      "\n",
      "t:  21%|██        | 52/251 [00:00<00:02, 75.50it/s, now=None]\u001b[A\u001b[A\n",
      "\n",
      "t:  24%|██▎       | 59/251 [00:00<00:02, 66.70it/s, now=None]\u001b[A\u001b[A\n",
      "\n",
      "t:  26%|██▋       | 66/251 [00:00<00:03, 60.33it/s, now=None]\u001b[A\u001b[A\n",
      "\n",
      "t:  29%|██▊       | 72/251 [00:01<00:03, 56.07it/s, now=None]\u001b[A\u001b[A\n",
      "\n",
      "t:  31%|███       | 78/251 [00:01<00:03, 49.38it/s, now=None]\u001b[A\u001b[A\n",
      "\n",
      "t:  33%|███▎      | 84/251 [00:01<00:03, 48.72it/s, now=None]\u001b[A\u001b[A\n",
      "\n",
      "t:  35%|███▌      | 89/251 [00:01<00:03, 43.98it/s, now=None]\u001b[A\u001b[A\n",
      "\n",
      "t:  37%|███▋      | 94/251 [00:01<00:03, 44.55it/s, now=None]\u001b[A\u001b[A\n",
      "\n",
      "t:  39%|███▉      | 99/251 [00:01<00:03, 45.00it/s, now=None]\u001b[A\u001b[A\n",
      "\n",
      "t:  42%|████▏     | 105/251 [00:01<00:03, 46.80it/s, now=None]\u001b[A\u001b[A\n",
      "\n",
      "t:  44%|████▍     | 110/251 [00:01<00:03, 42.66it/s, now=None]\u001b[A\u001b[A\n",
      "\n",
      "t:  46%|████▌     | 115/251 [00:02<00:03, 44.42it/s, now=None]\u001b[A\u001b[A\n",
      "\n",
      "t:  48%|████▊     | 120/251 [00:02<00:02, 44.75it/s, now=None]\u001b[A\u001b[A\n",
      "\n",
      "t:  50%|████▉     | 125/251 [00:02<00:02, 46.18it/s, now=None]\u001b[A\u001b[A\n",
      "\n",
      "t:  52%|█████▏    | 130/251 [00:02<00:02, 42.83it/s, now=None]\u001b[A\u001b[A\n",
      "\n",
      "t:  54%|█████▍    | 135/251 [00:02<00:02, 39.25it/s, now=None]\u001b[A\u001b[A\n",
      "\n",
      "t:  56%|█████▌    | 140/251 [00:02<00:02, 38.79it/s, now=None]\u001b[A\u001b[A\n",
      "\n",
      "t:  57%|█████▋    | 144/251 [00:02<00:02, 37.71it/s, now=None]\u001b[A\u001b[A\n",
      "\n",
      "t:  59%|█████▉    | 148/251 [00:02<00:03, 32.95it/s, now=None]\u001b[A\u001b[A\n",
      "\n",
      "t:  61%|██████    | 152/251 [00:03<00:02, 34.15it/s, now=None]\u001b[A\u001b[A\n",
      "\n",
      "t:  62%|██████▏   | 156/251 [00:03<00:02, 34.38it/s, now=None]\u001b[A\u001b[A\n",
      "\n",
      "t:  64%|██████▍   | 161/251 [00:03<00:02, 36.70it/s, now=None]\u001b[A\u001b[A\n",
      "\n",
      "t:  66%|██████▌   | 165/251 [00:03<00:02, 35.27it/s, now=None]\u001b[A\u001b[A\n",
      "\n",
      "t:  67%|██████▋   | 169/251 [00:03<00:02, 34.89it/s, now=None]\u001b[A\u001b[A\n",
      "\n",
      "t:  69%|██████▉   | 174/251 [00:03<00:02, 36.16it/s, now=None]\u001b[A\u001b[A\n",
      "\n",
      "t:  71%|███████▏  | 179/251 [00:03<00:01, 36.91it/s, now=None]\u001b[A\u001b[A\n",
      "\n",
      "t:  73%|███████▎  | 183/251 [00:03<00:01, 37.38it/s, now=None]\u001b[A\u001b[A\n",
      "\n",
      "t:  75%|███████▍  | 187/251 [00:04<00:01, 37.30it/s, now=None]\u001b[A\u001b[A\n",
      "\n",
      "t:  76%|███████▌  | 191/251 [00:04<00:01, 36.01it/s, now=None]\u001b[A\u001b[A\n",
      "\n",
      "t:  78%|███████▊  | 195/251 [00:04<00:01, 34.82it/s, now=None]\u001b[A\u001b[A\n",
      "\n",
      "t:  80%|███████▉  | 200/251 [00:04<00:01, 36.13it/s, now=None]\u001b[A\u001b[A\n",
      "\n",
      "t:  82%|████████▏ | 205/251 [00:04<00:01, 37.75it/s, now=None]\u001b[A\u001b[A\n",
      "\n",
      "t:  83%|████████▎ | 209/251 [00:04<00:01, 37.40it/s, now=None]\u001b[A\u001b[A\n",
      "\n",
      "t:  85%|████████▍ | 213/251 [00:04<00:01, 37.48it/s, now=None]\u001b[A\u001b[A\n",
      "\n",
      "t:  87%|████████▋ | 218/251 [00:04<00:00, 38.57it/s, now=None]\u001b[A\u001b[A\n",
      "\n",
      "t:  89%|████████▉ | 223/251 [00:04<00:00, 38.96it/s, now=None]\u001b[A\u001b[A\n",
      "\n",
      "t:  90%|█████████ | 227/251 [00:05<00:00, 39.15it/s, now=None]\u001b[A\u001b[A\n",
      "\n",
      "t:  92%|█████████▏| 232/251 [00:05<00:00, 40.38it/s, now=None]\u001b[A\u001b[A\n",
      "\n",
      "t:  94%|█████████▍| 237/251 [00:05<00:00, 39.40it/s, now=None]\u001b[A\u001b[A\n",
      "\n",
      "t:  96%|█████████▌| 241/251 [00:05<00:00, 39.46it/s, now=None]\u001b[A\u001b[A\n",
      "\n",
      "t:  98%|█████████▊| 245/251 [00:05<00:00, 39.30it/s, now=None]\u001b[A\u001b[A\n",
      "\n",
      "t: 100%|█████████▉| 250/251 [00:05<00:00, 39.46it/s, now=None]\u001b[A\u001b[A\n",
      "\n",
      "                                                              \u001b[A\u001b[A\n",
      "t:  84%|████████▍ | 186/221 [03:43<00:00, 88.85it/s, now=None]\n",
      "                                                              \u001b[A\n",
      "t:  84%|████████▍ | 186/221 [03:43<00:00, 88.85it/s, now=None]\n",
      "t:  84%|████████▍ | 186/221 [03:35<00:00, 84.13it/s, now=None]\u001b[A"
     ]
    },
    {
     "name": "stdout",
     "output_type": "stream",
     "text": [
      "Moviepy - Done !\n",
      "Moviepy - video ready test_videos_output/challenge.mp4\n",
      "CPU times: user 13 s, sys: 481 ms, total: 13.4 s\n",
      "Wall time: 6.37 s\n"
     ]
    }
   ],
   "source": [
    "challenge_output = 'test_videos_output/challenge.mp4'\n",
    "## To speed up the testing process you may want to try your pipeline on a shorter subclip of the video\n",
    "## To do so add .subclip(start_second,end_second) to the end of the line below\n",
    "## Where start_second and end_second are integer values representing the start and end of the subclip\n",
    "## You may also uncomment the following line for a subclip of the first 5 seconds\n",
    "##clip3 = VideoFileClip('test_videos/challenge.mp4').subclip(0,5)\n",
    "clip3 = VideoFileClip('test_videos/challenge.mp4')\n",
    "challenge_clip = clip3.fl_image(process_image)\n",
    "%time challenge_clip.write_videofile(challenge_output, audio=False)"
   ]
  },
  {
   "cell_type": "code",
   "execution_count": 25,
   "metadata": {},
   "outputs": [
    {
     "data": {
      "text/html": [
       "\n",
       "<video width=\"960\" height=\"540\" controls>\n",
       "  <source src=\"test_videos_output/challenge.mp4\">\n",
       "</video>\n"
      ],
      "text/plain": [
       "<IPython.core.display.HTML object>"
      ]
     },
     "execution_count": 25,
     "metadata": {},
     "output_type": "execute_result"
    }
   ],
   "source": [
    "HTML(\"\"\"\n",
    "<video width=\"960\" height=\"540\" controls>\n",
    "  <source src=\"{0}\">\n",
    "</video>\n",
    "\"\"\".format(challenge_output))"
   ]
  },
  {
   "cell_type": "code",
   "execution_count": null,
   "metadata": {},
   "outputs": [],
   "source": []
  }
 ],
 "metadata": {
  "anaconda-cloud": {},
  "kernelspec": {
   "display_name": "Python 3",
   "language": "python",
   "name": "python3"
  },
  "language_info": {
   "codemirror_mode": {
    "name": "ipython",
    "version": 3
   },
   "file_extension": ".py",
   "mimetype": "text/x-python",
   "name": "python",
   "nbconvert_exporter": "python",
   "pygments_lexer": "ipython3",
   "version": "3.5.2"
  },
  "widgets": {
   "state": {},
   "version": "1.1.2"
  }
 },
 "nbformat": 4,
 "nbformat_minor": 1
}
